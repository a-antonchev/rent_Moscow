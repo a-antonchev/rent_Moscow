{
 "cells": [
  {
   "cell_type": "markdown",
   "id": "2acfb45c-51bf-412c-987e-b2d0d33a56e6",
   "metadata": {},
   "source": [
    "# Анализ данных рынка недвижимости. Предобработка данных"
   ]
  },
  {
   "cell_type": "code",
   "execution_count": null,
   "id": "443b6134-565d-4348-b99e-dc1d5cfdc038",
   "metadata": {},
   "outputs": [],
   "source": [
    "import pandas as pd\n",
    "import numpy as np\n",
    "import datetime as dt\n",
    "import matplotlib.pyplot as plt"
   ]
  },
  {
   "cell_type": "markdown",
   "id": "f81ff509-cdf5-42ee-9618-c8097710ec85",
   "metadata": {},
   "source": [
    "### 1. Загрузка данных и общая информация"
   ]
  },
  {
   "cell_type": "code",
   "execution_count": null,
   "id": "af680678-1576-40d1-bd5a-7cbc2a80efb3",
   "metadata": {},
   "outputs": [],
   "source": [
    "# Считать датасет, столбец с датой публикации объявления сразу преобразовать в datetime\n",
    "path = 'https://gist.github.com/a-antonchev/f6eeafda405f4fc19d43965d3bcc462e/raw/rent_apartments.csv'\n",
    "rent = pd.read_csv(path, sep=',', parse_dates=['published'], date_format='%d/%m/%Y')\n",
    "rent.head(4)"
   ]
  },
  {
   "cell_type": "code",
   "execution_count": null,
   "id": "7f782d01-3fef-4e7f-a344-7ec4e6395930",
   "metadata": {},
   "outputs": [],
   "source": [
    "rent.info()"
   ]
  },
  {
   "cell_type": "code",
   "execution_count": null,
   "id": "3e78b47a-9a9f-4fe1-895d-4ddce97b3df8",
   "metadata": {},
   "outputs": [],
   "source": [
    "# Получить размерность сформированного датасета\n",
    "rent.shape"
   ]
  },
  {
   "cell_type": "code",
   "execution_count": null,
   "id": "956a95e3-9f40-4fa3-bb69-0fa5a8891400",
   "metadata": {},
   "outputs": [],
   "source": [
    "# Значения в столбце rooms (количество комнат в квартире); квартиры с количеством комнат 0 - студии\n",
    "rent.rooms.value_counts()"
   ]
  },
  {
   "cell_type": "code",
   "execution_count": null,
   "id": "c2b6e414-4409-454f-a1b1-bba088003c4a",
   "metadata": {},
   "outputs": [],
   "source": [
    "# Значения и их количество в столбце material (материал постройки дома)\n",
    "rent.material.value_counts()"
   ]
  },
  {
   "cell_type": "code",
   "execution_count": null,
   "id": "f996f948-0102-4a92-afd0-b7dc2c49d269",
   "metadata": {},
   "outputs": [],
   "source": [
    "# Значения и их количество в столбце build_oldest (новизна дома)\n",
    "rent.build_oldest.value_counts()"
   ]
  },
  {
   "cell_type": "markdown",
   "id": "37effbcd-b64b-4d5a-8204-13143af84f22",
   "metadata": {},
   "source": [
    "### 2. Обработка дубликатов"
   ]
  },
  {
   "cell_type": "markdown",
   "id": "934fca5e-66ac-47a7-9f03-97411ff105c5",
   "metadata": {},
   "source": [
    "В соответствии с техническим заданием проекта необходимо удалить только полные дубликаты строк."
   ]
  },
  {
   "cell_type": "code",
   "execution_count": null,
   "id": "ec55b046-102c-48cb-97bc-fd2c116f4d32",
   "metadata": {},
   "outputs": [],
   "source": [
    "# Вывести количество строк полных дубликатов\n",
    "rent.duplicated().sum()"
   ]
  },
  {
   "cell_type": "code",
   "execution_count": null,
   "id": "6beb61fc-2863-43c4-9bba-933aecde934c",
   "metadata": {},
   "outputs": [],
   "source": [
    "# Вывести несколько дубликатов для информации\n",
    "rent[rent.duplicated()][:3]"
   ]
  },
  {
   "cell_type": "code",
   "execution_count": null,
   "id": "7ca5809d-d31b-42cc-847f-afa6c256329c",
   "metadata": {},
   "outputs": [],
   "source": [
    "# Сохранить дубликаты в файл\n",
    "rent[rent.duplicated()].to_csv('rent_apartments_duplicates.csv')"
   ]
  },
  {
   "cell_type": "code",
   "execution_count": null,
   "id": "1a0b0dcc-028c-4c72-9b59-b608ab17c7e9",
   "metadata": {},
   "outputs": [],
   "source": [
    "# Удалить полные дубликаты строк\n",
    "rent = rent.drop_duplicates()"
   ]
  },
  {
   "cell_type": "markdown",
   "id": "24a92d31-60e9-4d6a-b22f-610e9ac34de8",
   "metadata": {},
   "source": [
    "### 3. Отбор столбцов для анализа"
   ]
  },
  {
   "cell_type": "code",
   "execution_count": null,
   "id": "3def3957-881b-46d5-a52d-23ac7f88bbf4",
   "metadata": {},
   "outputs": [],
   "source": [
    "usecols = ['rooms', 'level', 'area', 'price', 'material', 'published', 'city', 'remoute_from_center', 'build_oldest']\n",
    "rent = rent.loc[:, usecols]\n",
    "rent[:3]"
   ]
  },
  {
   "cell_type": "markdown",
   "id": "672d6261-f4d8-4e42-b244-5a16d402931e",
   "metadata": {},
   "source": [
    "### 4. Обработка пропусков"
   ]
  },
  {
   "cell_type": "code",
   "execution_count": null,
   "id": "6c9a9ad0-1bc0-4bbf-9211-c0e21f05aece",
   "metadata": {},
   "outputs": [],
   "source": [
    "# Получить сводные данные по наличию пропусков данных\n",
    "rent.isna().sum()"
   ]
  },
  {
   "cell_type": "code",
   "execution_count": null,
   "id": "292481f0-d260-496f-a1a1-a0a80bb28d15",
   "metadata": {},
   "outputs": [],
   "source": [
    "# В колонке 'material' (материал постройки дома) присутствуют пропуски данных\n",
    "rent.loc[rent.material.isna()][:3]"
   ]
  },
  {
   "cell_type": "code",
   "execution_count": null,
   "id": "38a6efd4-23ac-42db-b51d-3f2d4f01ee5a",
   "metadata": {},
   "outputs": [],
   "source": [
    "# Оценить масштаб проблемы\n",
    "# Рассчитаем долю строк с пропущенными значениями к общему количеству строк целевом наборе данных (объявления в Москве с 01.01.2021 по 01.02.2022 включительно)\n",
    "target = (rent.city == \"Москва\") & (rent.published >= dt.datetime(2021, 1, 1)) & (rent.published < dt.datetime(2022, 3, 1))\n",
    "count_all_target_lines = rent.loc[target].shape[0]\n",
    "count_lines_with_material_nan = rent.loc[target & (rent.material.isna())].shape[0]\n",
    "prc_ratio_nan = count_lines_with_material_nan * 100.0 / count_all_target_lines\n",
    "print(f'Доля строк с пропущенными значениями material к общему количеству строк: {prc_ratio_nan:.2f}%')"
   ]
  },
  {
   "cell_type": "code",
   "execution_count": null,
   "id": "a90396b1-8206-4b03-b409-94f3113ce113",
   "metadata": {},
   "outputs": [],
   "source": [
    "# Доля строк с пропущенными значениями составляет 0,24%, принято решение удалить такие строки \n",
    "rent = rent.dropna()"
   ]
  },
  {
   "cell_type": "markdown",
   "id": "cfb91cc9-b06f-4e22-8cf2-4ff86f2fea51",
   "metadata": {},
   "source": [
    "### 5. Распаковка столбца `level`"
   ]
  },
  {
   "cell_type": "markdown",
   "id": "e566c91e-44e6-4f90-9d39-862273d7cf7d",
   "metadata": {},
   "source": [
    "В столбце level указан этаж квартиры и общее количество этажей в доме через прямой слеш '/'. Необходимо разделить значения этажа и этажности по разным столбцам. Считаем, что значение этажа - целое число"
   ]
  },
  {
   "cell_type": "code",
   "execution_count": null,
   "id": "7c67f3ce-f8e0-4357-886d-5f763925cad9",
   "metadata": {},
   "outputs": [],
   "source": [
    "def get_level(s, i):\n",
    "    \"\"\"\n",
    "    Возвращает элемент списка, приведенный к типу int, по заданному индексу.\n",
    "    При возникновении исключения ValueError возвращает NaN\n",
    "    Parameters\n",
    "    ----------\n",
    "    s : {list}\n",
    "        Список из которого требуется возвратить элемент\n",
    "    i : {int}\n",
    "        Индекс возвращаемого элемента списка\n",
    "    Returns\n",
    "    -------\n",
    "    Элемент списка, преобразованный в int или NaN, при ошибке обработки    \n",
    "    \"\"\"\n",
    "    try:\n",
    "        return int(s[i])\n",
    "    except ValueError:\n",
    "        return np.nan"
   ]
  },
  {
   "cell_type": "code",
   "execution_count": null,
   "id": "e5fad444-df54-489a-a175-5b4484fd2935",
   "metadata": {},
   "outputs": [],
   "source": [
    "rent['level_temp'] = rent['level'].str.split('/') # создать временный столбец, разделив значения в cтолбце 'level' по '/'\n",
    "rent['level'] = rent['level_temp'].apply(get_level, i=0) # в столбец 'level' записать этаж\n",
    "rent['level_all'] = rent['level_temp'].apply(get_level, i=1) # в столбец 'level_all' записать общее количество этажей дома\n",
    "rent = rent.drop(labels=['level_temp'], axis=1)  # удалить временный столбец\n",
    "rent.isna().sum() # проверить корректность распаковки столбца 'level' (отсутствие значений NaN)"
   ]
  },
  {
   "cell_type": "markdown",
   "id": "bd5145be-2de3-4244-8536-d27adcd1ea9b",
   "metadata": {},
   "source": [
    "### 6. Замена категорий"
   ]
  },
  {
   "cell_type": "code",
   "execution_count": null,
   "id": "91ee579a-da5f-4232-b2ff-ade261c10686",
   "metadata": {},
   "outputs": [],
   "source": [
    "mapping_template = {'new': 'новостройка', 'old': 'старый фонд', 'middle': 'вторичка'}\n",
    "rent['build_oldest'] = rent['build_oldest'].map(mapping_template)"
   ]
  },
  {
   "cell_type": "markdown",
   "id": "379d7621-0fb4-41ec-8c71-d72a606f6015",
   "metadata": {},
   "source": [
    "### 7. Расчет цены аренды за 1 кв. метр"
   ]
  },
  {
   "cell_type": "code",
   "execution_count": null,
   "id": "6990b991-81a8-4a27-b2c9-09aec1ac576f",
   "metadata": {},
   "outputs": [],
   "source": [
    "rent['price_per_meter'] = rent['price'].div(rent['area']).round(0)"
   ]
  },
  {
   "cell_type": "markdown",
   "id": "d318111d-9c89-40ae-8b4e-5228ad328116",
   "metadata": {},
   "source": [
    "### 8. Округление данных"
   ]
  },
  {
   "cell_type": "code",
   "execution_count": null,
   "id": "f6e0b3d7-4f07-4768-9bee-467ef3830828",
   "metadata": {},
   "outputs": [],
   "source": [
    "rent['remoute_from_center'] = rent['remoute_from_center'].round(0)"
   ]
  },
  {
   "cell_type": "markdown",
   "id": "902aa3ac-d177-4bfc-a4d0-ccbb93b77bb9",
   "metadata": {},
   "source": [
    "### 9. Проверка валидности данных"
   ]
  },
  {
   "cell_type": "code",
   "execution_count": null,
   "id": "d62e7f75-c10a-4f4a-8df3-531dd5603252",
   "metadata": {},
   "outputs": [],
   "source": [
    "# Проверить, что этаж не превышает этажности здания\n",
    "rent.query('level > level_all')"
   ]
  },
  {
   "cell_type": "markdown",
   "id": "9d8cf3a9-de5d-459d-b1df-56927d47be65",
   "metadata": {},
   "source": [
    "### 10. Фильтрация данных"
   ]
  },
  {
   "cell_type": "code",
   "execution_count": null,
   "id": "75010a9b-3e0a-4ea6-a5ff-8b172f5fb396",
   "metadata": {},
   "outputs": [],
   "source": [
    "# Отфильтровать данные для анализа, оставить только объявления по Москве за период с 01.01.2021 по 01.02.2022 включительно\n",
    "start_date = dt.datetime(2021, 1, 1)\n",
    "end_date = dt.datetime(2022, 3, 1)\n",
    "rent = rent.loc[(rent['published'] >= start_date) & (rent['published'] < end_date) & (rent['city'] == 'Москва')]"
   ]
  },
  {
   "cell_type": "code",
   "execution_count": null,
   "id": "4d9e9509-4fa5-485e-86bb-034939e998cb",
   "metadata": {},
   "outputs": [],
   "source": [
    "# Вывести размерность датасета после фильтрации\n",
    "rent.shape"
   ]
  },
  {
   "cell_type": "markdown",
   "id": "06a2fd04-af22-4310-8b91-df18b5d1eea4",
   "metadata": {},
   "source": [
    "### 11. Удаление выбросов"
   ]
  },
  {
   "cell_type": "markdown",
   "id": "38a4e681-988a-413d-970b-5f5989e1f727",
   "metadata": {},
   "source": [
    "Визуализируем распределения количественных признаков: level, area, price, remoute_from_center, price_per_meter"
   ]
  },
  {
   "cell_type": "code",
   "execution_count": null,
   "id": "5fb54fb3",
   "metadata": {},
   "outputs": [],
   "source": [
    "# чтобы вывести распределения на одном графике, нормируем признаки с помощью z-оценки и сформируем новый датафрейм\n",
    "std = pd.DataFrame()\n",
    "\n",
    "cols = ['price', 'price_per_meter', 'area', 'level', 'level_all', 'remoute_from_center', 'rooms']\n",
    "\n",
    "for col in cols:\n",
    "    m = rent[col].mean()\n",
    "    s = rent[col].std()\n",
    "    std[col + '_n'] = (rent[col] - m) / s\n",
    "\n",
    "std.head(3)"
   ]
  },
  {
   "cell_type": "code",
   "execution_count": null,
   "id": "ea99e645",
   "metadata": {},
   "outputs": [],
   "source": [
    "def show_boxplots(df):\n",
    "    \"\"\"\n",
    "    Визуализация распределения датафрейма с помощью boxplots\n",
    "    Parameters\n",
    "    ----------\n",
    "    df : {pd.DataFrame}\n",
    "         Датафрейм для визуализации\n",
    "    Returns\n",
    "    -------\n",
    "    Boxplots\n",
    "    \"\"\"\n",
    "    fig, ax = plt.subplots(nrows=1, ncols=1, figsize=(12, 5))\n",
    "    ax.tick_params(labelsize=9)\n",
    "    ax.set_xticklabels(df.columns)\n",
    "    ax.boxplot(df)\n",
    "    plt.show();"
   ]
  },
  {
   "cell_type": "code",
   "execution_count": null,
   "id": "d03c1315-8822-4663-bcb0-befbe3742174",
   "metadata": {},
   "outputs": [],
   "source": [
    "# визуализируем распределения признаков\n",
    "show_boxplots(std)"
   ]
  },
  {
   "cell_type": "code",
   "execution_count": null,
   "id": "af52e812-e216-4b70-ae5d-b3b3c780ba38",
   "metadata": {},
   "outputs": [],
   "source": [
    "# удалим выбросы в наборах данных price_n и price_per_meter_n и заново визуализируем распределения\n",
    "cut_outliers = (std.price_n <= 40) & (std.price_per_meter_n <= 50)\n",
    "std = std.loc[cut_outliers]\n",
    "show_boxplots(std)"
   ]
  },
  {
   "cell_type": "markdown",
   "id": "705d48c3-8247-42be-a2dd-a293b95d481c",
   "metadata": {},
   "source": [
    "Графики распределения количественных данных level, area, price, remoute_from_center, price_per_meter не симметричны, скошены вправо, что свидетельствет о наличии на рынке недвижимости Москвы высотных домов, домов со значительной удаленностью от центра и квартир премиум-сегмента (квартиры большой площади, с высокой арендной платой).\\\n",
    "Чтобы минимизировать влияние выбросов, но при этом сохранить общую картину рынка, принято решение удалить записи со значениями, которые превышают:\n",
    "- по площади (area) 260 кв. м \n",
    "- по арендной плате (price) - 650 тыс. руб.\n",
    "- цене аренды за 1 кв. метр (price_per_meter) - 6000 руб.\n",
    "- по расстоянию от центра (remoute_from_center) - 40 км\n",
    "- по количеству этажей дома (level_all) - 90\n",
    "- по количеству комнат (rooms) - 6"
   ]
  },
  {
   "cell_type": "code",
   "execution_count": null,
   "id": "e367ed64-dbb9-4a5a-9e77-ffbd5deaae43",
   "metadata": {},
   "outputs": [],
   "source": [
    "# сформировать фильтр и отсечь 'экстремальные' значения\n",
    "cut_outliers =(rent.area <= 260) & (rent.price <= 650_000) & (rent.price_per_meter <= 6_000) & (rent.remoute_from_center <= 40) & (rent.level_all <= 90) & (rent.rooms <= 6)\n",
    "rent = rent.loc[cut_outliers]"
   ]
  },
  {
   "cell_type": "code",
   "execution_count": null,
   "id": "fd1a28db-1485-4271-a767-e154c775fd91",
   "metadata": {},
   "outputs": [],
   "source": [
    "rent.reset_index(drop=True, inplace=True)"
   ]
  },
  {
   "cell_type": "code",
   "execution_count": null,
   "id": "ca9a7f38-bc57-4294-a059-e5e7ad5bee4d",
   "metadata": {},
   "outputs": [],
   "source": [
    "# вывести размерность итогового датасета\n",
    "rent.shape"
   ]
  },
  {
   "cell_type": "code",
   "execution_count": null,
   "id": "f4345dc6-378c-46c5-b79d-f928f7244994",
   "metadata": {},
   "outputs": [],
   "source": [
    "fig, ax = plt.subplots(nrows=2, ncols=3, figsize=(15, 6))\n",
    "labels = [['Этажность дома', 'Количество этажей', 'Площадь квартиры, кв.м'], ['Цена аренды, руб.', 'Цена аренды за 1 кв. метр, руб.', 'Расстояние от центра, км']]\n",
    "columns =[['level_all', 'level', 'area'], ['price', 'price_per_meter', 'remoute_from_center']]\n",
    "for i in range(2):\n",
    "    for j in range(3):\n",
    "        ax[i][j].set_xlabel(labels[i][j], fontsize=9)\n",
    "        ax[i][j].set_ylabel('Количество квартир', fontsize=9)\n",
    "        ax[i][j].tick_params(axis='both', labelsize=8)\n",
    "        ax[i][j].hist(rent[columns[i][j]], bins=20, color='#394075')\n",
    "\n",
    "plt.show();"
   ]
  },
  {
   "cell_type": "markdown",
   "id": "3cb5012f-27b4-4804-8233-e9007cc0da81",
   "metadata": {},
   "source": [
    "### 12. Переименование столбцов"
   ]
  },
  {
   "cell_type": "code",
   "execution_count": null,
   "id": "7eca0002-30f6-4987-9bae-c5889277eee1",
   "metadata": {},
   "outputs": [],
   "source": [
    "columns={'rooms': 'Количество комнат',\n",
    "         'level': 'Этаж',\n",
    "         'area': 'Площадь',\n",
    "         'price': 'Цена аренды',\n",
    "         'material': 'Конструктив дома',\n",
    "         'published': 'Дата публикации',\n",
    "         'city': 'Город',\n",
    "         'remoute_from_center': 'Расстояние от центра',\n",
    "         'build_oldest': 'Тип недвижимости',\n",
    "         'level_all': 'Этажность',\n",
    "         'price_per_meter': 'Цена аренды за кв.метр'}\n",
    "rent = rent.rename(columns=columns)\n",
    "rent[:3]"
   ]
  },
  {
   "cell_type": "markdown",
   "id": "20f2dc5b-8782-4070-b102-a5e7e6e6e221",
   "metadata": {},
   "source": [
    "### 13. Сохранение датасета в файл"
   ]
  },
  {
   "cell_type": "code",
   "execution_count": null,
   "id": "79698d5a-08da-4a55-b8ff-274f5a7e342b",
   "metadata": {},
   "outputs": [],
   "source": [
    "rent.to_csv('rent_apartament_for analysis.csv', index_label='id')"
   ]
  }
 ],
 "metadata": {
  "kernelspec": {
   "display_name": "anaconda-panel-2023.05-py310",
   "language": "python",
   "name": "conda-env-anaconda-panel-2023.05-py310-py"
  },
  "language_info": {
   "codemirror_mode": {
    "name": "ipython",
    "version": 3
   },
   "file_extension": ".py",
   "mimetype": "text/x-python",
   "name": "python",
   "nbconvert_exporter": "python",
   "pygments_lexer": "ipython3",
   "version": "3.11.5"
  }
 },
 "nbformat": 4,
 "nbformat_minor": 5
}
