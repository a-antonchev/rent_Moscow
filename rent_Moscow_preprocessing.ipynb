{
 "cells": [
  {
   "cell_type": "markdown",
   "id": "e3c2c34e-9f06-4d56-a414-18780afc88cd",
   "metadata": {},
   "source": [
    "# Стажировка"
   ]
  },
  {
   "cell_type": "code",
   "execution_count": 2,
   "id": "443b6134-565d-4348-b99e-dc1d5cfdc038",
   "metadata": {},
   "outputs": [],
   "source": [
    "import pandas as pd\n",
    "import numpy as np\n",
    "import datetime as dt"
   ]
  },
  {
   "cell_type": "code",
   "execution_count": 4,
   "id": "af680678-1576-40d1-bd5a-7cbc2a80efb3",
   "metadata": {},
   "outputs": [
    {
     "data": {
      "text/html": [
       "<div>\n",
       "<style scoped>\n",
       "    .dataframe tbody tr th:only-of-type {\n",
       "        vertical-align: middle;\n",
       "    }\n",
       "\n",
       "    .dataframe tbody tr th {\n",
       "        vertical-align: top;\n",
       "    }\n",
       "\n",
       "    .dataframe thead th {\n",
       "        text-align: right;\n",
       "    }\n",
       "</style>\n",
       "<table border=\"1\" class=\"dataframe\">\n",
       "  <thead>\n",
       "    <tr style=\"text-align: right;\">\n",
       "      <th></th>\n",
       "      <th>object_type</th>\n",
       "      <th>type</th>\n",
       "      <th>rooms</th>\n",
       "      <th>level</th>\n",
       "      <th>kitchen_area</th>\n",
       "      <th>living_area</th>\n",
       "      <th>area</th>\n",
       "      <th>price_by_meter</th>\n",
       "      <th>price</th>\n",
       "      <th>material</th>\n",
       "      <th>...</th>\n",
       "      <th>build_walls</th>\n",
       "      <th>heating</th>\n",
       "      <th>gas</th>\n",
       "      <th>longitude</th>\n",
       "      <th>latitude</th>\n",
       "      <th>agencyName</th>\n",
       "      <th>areaRating</th>\n",
       "      <th>city</th>\n",
       "      <th>remoute_from_center</th>\n",
       "      <th>build_oldest</th>\n",
       "    </tr>\n",
       "  </thead>\n",
       "  <tbody>\n",
       "    <tr>\n",
       "      <th>0</th>\n",
       "      <td>0</td>\n",
       "      <td>Не заполнено</td>\n",
       "      <td>2</td>\n",
       "      <td>3/5</td>\n",
       "      <td>10.0</td>\n",
       "      <td>40.0</td>\n",
       "      <td>60.0</td>\n",
       "      <td>200.0</td>\n",
       "      <td>12000.0</td>\n",
       "      <td>Панель</td>\n",
       "      <td>...</td>\n",
       "      <td>Не заполнено</td>\n",
       "      <td>0</td>\n",
       "      <td>0</td>\n",
       "      <td>47.863361</td>\n",
       "      <td>56.647657</td>\n",
       "      <td>Антон</td>\n",
       "      <td>3.634451</td>\n",
       "      <td>Йошкар-Ола</td>\n",
       "      <td>1.951714</td>\n",
       "      <td>new</td>\n",
       "    </tr>\n",
       "    <tr>\n",
       "      <th>1</th>\n",
       "      <td>0</td>\n",
       "      <td>Квартира</td>\n",
       "      <td>2</td>\n",
       "      <td>1/10</td>\n",
       "      <td>12.0</td>\n",
       "      <td>45.0</td>\n",
       "      <td>60.0</td>\n",
       "      <td>583.0</td>\n",
       "      <td>35000.0</td>\n",
       "      <td>Кирпич</td>\n",
       "      <td>...</td>\n",
       "      <td>0</td>\n",
       "      <td>0</td>\n",
       "      <td>0</td>\n",
       "      <td>47.877609</td>\n",
       "      <td>56.625316</td>\n",
       "      <td>Антон Александрович</td>\n",
       "      <td>3.634451</td>\n",
       "      <td>Йошкар-Ола</td>\n",
       "      <td>1.702297</td>\n",
       "      <td>new</td>\n",
       "    </tr>\n",
       "    <tr>\n",
       "      <th>2</th>\n",
       "      <td>0</td>\n",
       "      <td>Многоквартирный дом</td>\n",
       "      <td>3</td>\n",
       "      <td>1/5</td>\n",
       "      <td>10.0</td>\n",
       "      <td>54.0</td>\n",
       "      <td>82.0</td>\n",
       "      <td>268.0</td>\n",
       "      <td>22000.0</td>\n",
       "      <td>Кирпич</td>\n",
       "      <td>...</td>\n",
       "      <td>Кирпич</td>\n",
       "      <td>Центральное</td>\n",
       "      <td>Да</td>\n",
       "      <td>47.900983</td>\n",
       "      <td>56.644836</td>\n",
       "      <td>Риелторская компания \"Партнеры\"</td>\n",
       "      <td>3.634451</td>\n",
       "      <td>Йошкар-Ола</td>\n",
       "      <td>0.920945</td>\n",
       "      <td>old</td>\n",
       "    </tr>\n",
       "    <tr>\n",
       "      <th>3</th>\n",
       "      <td>0</td>\n",
       "      <td>Многоквартирный дом</td>\n",
       "      <td>1</td>\n",
       "      <td>2/5</td>\n",
       "      <td>8.0</td>\n",
       "      <td>18.0</td>\n",
       "      <td>35.0</td>\n",
       "      <td>314.0</td>\n",
       "      <td>11000.0</td>\n",
       "      <td>Кирпич</td>\n",
       "      <td>...</td>\n",
       "      <td>Кирпич</td>\n",
       "      <td>Центральное</td>\n",
       "      <td>Да</td>\n",
       "      <td>47.878426</td>\n",
       "      <td>56.647054</td>\n",
       "      <td>Риелторская компания \"Партнеры\"</td>\n",
       "      <td>3.634451</td>\n",
       "      <td>Йошкар-Ола</td>\n",
       "      <td>1.193907</td>\n",
       "      <td>old</td>\n",
       "    </tr>\n",
       "  </tbody>\n",
       "</table>\n",
       "<p>4 rows × 30 columns</p>\n",
       "</div>"
      ],
      "text/plain": [
       "   object_type                 type  rooms level  kitchen_area  living_area  \\\n",
       "0            0         Не заполнено      2   3/5          10.0         40.0   \n",
       "1            0             Квартира      2  1/10          12.0         45.0   \n",
       "2            0  Многоквартирный дом      3   1/5          10.0         54.0   \n",
       "3            0  Многоквартирный дом      1   2/5           8.0         18.0   \n",
       "\n",
       "   area  price_by_meter    price material  ...   build_walls      heating  \\\n",
       "0  60.0           200.0  12000.0   Панель  ...  Не заполнено            0   \n",
       "1  60.0           583.0  35000.0   Кирпич  ...             0            0   \n",
       "2  82.0           268.0  22000.0   Кирпич  ...        Кирпич  Центральное   \n",
       "3  35.0           314.0  11000.0   Кирпич  ...        Кирпич  Центральное   \n",
       "\n",
       "   gas  longitude   latitude                       agencyName  areaRating  \\\n",
       "0    0  47.863361  56.647657                            Антон    3.634451   \n",
       "1    0  47.877609  56.625316              Антон Александрович    3.634451   \n",
       "2   Да  47.900983  56.644836  Риелторская компания \"Партнеры\"    3.634451   \n",
       "3   Да  47.878426  56.647054  Риелторская компания \"Партнеры\"    3.634451   \n",
       "\n",
       "         city  remoute_from_center build_oldest  \n",
       "0  Йошкар-Ола             1.951714          new  \n",
       "1  Йошкар-Ола             1.702297          new  \n",
       "2  Йошкар-Ола             0.920945          old  \n",
       "3  Йошкар-Ола             1.193907          old  \n",
       "\n",
       "[4 rows x 30 columns]"
      ]
     },
     "execution_count": 4,
     "metadata": {},
     "output_type": "execute_result"
    }
   ],
   "source": [
    "# считать датасет, столбец с датой сразу преобразовать в datetime\n",
    "rent = pd.read_csv('rent_apartments.csv', sep=',', parse_dates=[10], date_format='%d/%m/%Y')\n",
    "rent[:4]"
   ]
  },
  {
   "cell_type": "code",
   "execution_count": null,
   "id": "7f782d01-3fef-4e7f-a344-7ec4e6395930",
   "metadata": {},
   "outputs": [],
   "source": [
    "rent.info()"
   ]
  },
  {
   "cell_type": "code",
   "execution_count": null,
   "id": "3e78b47a-9a9f-4fe1-895d-4ddce97b3df8",
   "metadata": {},
   "outputs": [],
   "source": [
    "rent.shape"
   ]
  },
  {
   "cell_type": "markdown",
   "id": "37effbcd-b64b-4d5a-8204-13143af84f22",
   "metadata": {},
   "source": [
    "## Обработка дубликатов"
   ]
  },
  {
   "cell_type": "code",
   "execution_count": null,
   "id": "ec55b046-102c-48cb-97bc-fd2c116f4d32",
   "metadata": {},
   "outputs": [],
   "source": [
    "# вывести количество полных дубликатов\n",
    "rent.duplicated().sum()"
   ]
  },
  {
   "cell_type": "code",
   "execution_count": null,
   "id": "6beb61fc-2863-43c4-9bba-933aecde934c",
   "metadata": {},
   "outputs": [],
   "source": [
    "rent[rent.duplicated()][:5]"
   ]
  },
  {
   "cell_type": "code",
   "execution_count": null,
   "id": "7ca5809d-d31b-42cc-847f-afa6c256329c",
   "metadata": {},
   "outputs": [],
   "source": [
    "# сохранить дубликаты в файл\n",
    "rent[rent.duplicated()].to_csv('rent_apartments_dup.csv')"
   ]
  },
  {
   "cell_type": "code",
   "execution_count": 6,
   "id": "1a0b0dcc-028c-4c72-9b59-b608ab17c7e9",
   "metadata": {},
   "outputs": [],
   "source": [
    "# удалить полностью дублирующие записи\n",
    "rent = rent.drop_duplicates()"
   ]
  },
  {
   "cell_type": "markdown",
   "id": "562728f1-2d84-4405-b968-18ad7f6bfcd4",
   "metadata": {},
   "source": [
    "## Отбор столбцов для анализа"
   ]
  },
  {
   "cell_type": "code",
   "execution_count": 8,
   "id": "ea64b465-f997-4eb4-ad30-4bf25cdf466c",
   "metadata": {},
   "outputs": [
    {
     "data": {
      "text/html": [
       "<div>\n",
       "<style scoped>\n",
       "    .dataframe tbody tr th:only-of-type {\n",
       "        vertical-align: middle;\n",
       "    }\n",
       "\n",
       "    .dataframe tbody tr th {\n",
       "        vertical-align: top;\n",
       "    }\n",
       "\n",
       "    .dataframe thead th {\n",
       "        text-align: right;\n",
       "    }\n",
       "</style>\n",
       "<table border=\"1\" class=\"dataframe\">\n",
       "  <thead>\n",
       "    <tr style=\"text-align: right;\">\n",
       "      <th></th>\n",
       "      <th>rooms</th>\n",
       "      <th>level</th>\n",
       "      <th>area</th>\n",
       "      <th>price</th>\n",
       "      <th>material</th>\n",
       "      <th>published</th>\n",
       "      <th>city</th>\n",
       "      <th>remoute_from_center</th>\n",
       "      <th>build_oldest</th>\n",
       "    </tr>\n",
       "  </thead>\n",
       "  <tbody>\n",
       "    <tr>\n",
       "      <th>0</th>\n",
       "      <td>2</td>\n",
       "      <td>3/5</td>\n",
       "      <td>60.0</td>\n",
       "      <td>12000.0</td>\n",
       "      <td>Панель</td>\n",
       "      <td>2021-05-20</td>\n",
       "      <td>Йошкар-Ола</td>\n",
       "      <td>1.951714</td>\n",
       "      <td>new</td>\n",
       "    </tr>\n",
       "    <tr>\n",
       "      <th>1</th>\n",
       "      <td>2</td>\n",
       "      <td>1/10</td>\n",
       "      <td>60.0</td>\n",
       "      <td>35000.0</td>\n",
       "      <td>Кирпич</td>\n",
       "      <td>2021-09-30</td>\n",
       "      <td>Йошкар-Ола</td>\n",
       "      <td>1.702297</td>\n",
       "      <td>new</td>\n",
       "    </tr>\n",
       "  </tbody>\n",
       "</table>\n",
       "</div>"
      ],
      "text/plain": [
       "   rooms level  area    price material  published        city  \\\n",
       "0      2   3/5  60.0  12000.0   Панель 2021-05-20  Йошкар-Ола   \n",
       "1      2  1/10  60.0  35000.0   Кирпич 2021-09-30  Йошкар-Ола   \n",
       "\n",
       "   remoute_from_center build_oldest  \n",
       "0             1.951714          new  \n",
       "1             1.702297          new  "
      ]
     },
     "execution_count": 8,
     "metadata": {},
     "output_type": "execute_result"
    }
   ],
   "source": [
    "columns = ['rooms', 'level', 'area', 'price', 'material', 'published', 'city', 'remoute_from_center', 'build_oldest']\n",
    "rent = rent[columns]\n",
    "rent[:2]"
   ]
  },
  {
   "cell_type": "markdown",
   "id": "672d6261-f4d8-4e42-b244-5a16d402931e",
   "metadata": {},
   "source": [
    "## Обработка пропусков"
   ]
  },
  {
   "cell_type": "code",
   "execution_count": 85,
   "id": "6c9a9ad0-1bc0-4bbf-9211-c0e21f05aece",
   "metadata": {},
   "outputs": [
    {
     "data": {
      "text/plain": [
       "rooms                  0.0\n",
       "level                  0.0\n",
       "area                   0.0\n",
       "price                  0.0\n",
       "material               0.0\n",
       "published              0.0\n",
       "city                   0.0\n",
       "remoute_from_center    0.0\n",
       "build_oldest           0.0\n",
       "dtype: float64"
      ]
     },
     "execution_count": 85,
     "metadata": {},
     "output_type": "execute_result"
    }
   ],
   "source": [
    "# сводные данные по наличию NaN\n",
    "rent.isna().sum()"
   ]
  },
  {
   "cell_type": "code",
   "execution_count": 89,
   "id": "292481f0-d260-496f-a1a1-a0a80bb28d15",
   "metadata": {},
   "outputs": [
    {
     "data": {
      "text/html": [
       "<div>\n",
       "<style scoped>\n",
       "    .dataframe tbody tr th:only-of-type {\n",
       "        vertical-align: middle;\n",
       "    }\n",
       "\n",
       "    .dataframe tbody tr th {\n",
       "        vertical-align: top;\n",
       "    }\n",
       "\n",
       "    .dataframe thead th {\n",
       "        text-align: right;\n",
       "    }\n",
       "</style>\n",
       "<table border=\"1\" class=\"dataframe\">\n",
       "  <thead>\n",
       "    <tr style=\"text-align: right;\">\n",
       "      <th></th>\n",
       "      <th>rooms</th>\n",
       "      <th>level</th>\n",
       "      <th>area</th>\n",
       "      <th>price</th>\n",
       "      <th>material</th>\n",
       "      <th>published</th>\n",
       "      <th>city</th>\n",
       "      <th>remoute_from_center</th>\n",
       "      <th>build_oldest</th>\n",
       "    </tr>\n",
       "  </thead>\n",
       "  <tbody>\n",
       "  </tbody>\n",
       "</table>\n",
       "</div>"
      ],
      "text/plain": [
       "Empty DataFrame\n",
       "Columns: [rooms, level, area, price, material, published, city, remoute_from_center, build_oldest]\n",
       "Index: []"
      ]
     },
     "execution_count": 89,
     "metadata": {},
     "output_type": "execute_result"
    }
   ],
   "source": [
    "rent.loc[rent.material.isna()][:3]"
   ]
  },
  {
   "cell_type": "code",
   "execution_count": 18,
   "id": "a90396b1-8206-4b03-b409-94f3113ce113",
   "metadata": {},
   "outputs": [],
   "source": [
    "# удалить строки со значениями NaN\n",
    "rent = rent.dropna()"
   ]
  },
  {
   "cell_type": "code",
   "execution_count": 16,
   "id": "b7f5b5b8-3090-48d5-9607-b92cb89e8128",
   "metadata": {},
   "outputs": [
    {
     "data": {
      "text/plain": [
       "9012"
      ]
     },
     "execution_count": 16,
     "metadata": {},
     "output_type": "execute_result"
    }
   ],
   "source": [
    "rent.loc[(rent.rooms == 0) & (rent.city == 'Москва')].shape[0]"
   ]
  },
  {
   "cell_type": "code",
   "execution_count": 191,
   "id": "93fb9607-dbf3-4535-a83f-8e46f920373a",
   "metadata": {},
   "outputs": [],
   "source": [
    "# удалить записи с количеством комнат = 0\n",
    "rent = rent.loc[rent.rooms != 0]"
   ]
  },
  {
   "cell_type": "code",
   "execution_count": 193,
   "id": "4350e92f-b27f-4bcf-a41b-8db5528ae44d",
   "metadata": {},
   "outputs": [
    {
     "data": {
      "text/plain": [
       "(11399, 9)"
      ]
     },
     "execution_count": 193,
     "metadata": {},
     "output_type": "execute_result"
    }
   ],
   "source": [
    "rent.shape"
   ]
  },
  {
   "cell_type": "markdown",
   "id": "cfb91cc9-b06f-4e22-8cf2-4ff86f2fea51",
   "metadata": {},
   "source": [
    "## Распаковка столбца `level`"
   ]
  },
  {
   "cell_type": "code",
   "execution_count": 20,
   "id": "7c67f3ce-f8e0-4357-886d-5f763925cad9",
   "metadata": {},
   "outputs": [],
   "source": [
    "def get_level(s, i):\n",
    "    \"\"\"\n",
    "    Возвращает элемент списка, приведенный к типу int, по заданному индексу.\n",
    "    При возникновении исключения ValueError возвращает NaN\n",
    "    Parameters\n",
    "    ----------\n",
    "    s : {list}\n",
    "        Список из которого требуется возвратить элемент\n",
    "    i : {int}\n",
    "        Индекс возвращаемого элемента\n",
    "    Returns\n",
    "    -------\n",
    "    Элемент списка, преобразованный в int или NaN    \n",
    "    \"\"\"\n",
    "    try:\n",
    "        return int(float(s[i]))\n",
    "    except ValueError:\n",
    "        return np.nan"
   ]
  },
  {
   "cell_type": "code",
   "execution_count": 22,
   "id": "e5fad444-df54-489a-a175-5b4484fd2935",
   "metadata": {},
   "outputs": [
    {
     "data": {
      "text/plain": [
       "rooms                  0\n",
       "level                  0\n",
       "area                   0\n",
       "price                  0\n",
       "material               0\n",
       "published              0\n",
       "city                   0\n",
       "remoute_from_center    0\n",
       "build_oldest           0\n",
       "level_all              0\n",
       "dtype: int64"
      ]
     },
     "execution_count": 22,
     "metadata": {},
     "output_type": "execute_result"
    }
   ],
   "source": [
    "rent['level_lst'] = rent['level'].str.split('/') # создать временный столбец, разделив значения в cтолбце 'level' по '/'\n",
    "rent['level'] = rent['level_lst'].apply(get_level, i=0) # в столбец 'level' записать этаж\n",
    "rent['level_all'] = rent['level_lst'].apply(get_level, i=1) # в столбец 'level_all' записать общее количество этажей дома\n",
    "rent = rent.drop(labels=['level_lst'], axis=1)  # удалить временный столбец\n",
    "rent.isna().sum() # проверить корректность распаковки столбца 'level' (отсутствие значений NaN)"
   ]
  },
  {
   "cell_type": "markdown",
   "id": "bd5145be-2de3-4244-8536-d27adcd1ea9b",
   "metadata": {},
   "source": [
    "## Замена категорий"
   ]
  },
  {
   "cell_type": "code",
   "execution_count": 24,
   "id": "91ee579a-da5f-4232-b2ff-ade261c10686",
   "metadata": {},
   "outputs": [],
   "source": [
    "mapping_template = {'new': 'новостройка', 'old': 'старый фонд', 'middle': 'вторичка'}\n",
    "rent['build_oldest'] = rent['build_oldest'].map(mapping_template)"
   ]
  },
  {
   "cell_type": "markdown",
   "id": "379d7621-0fb4-41ec-8c71-d72a606f6015",
   "metadata": {},
   "source": [
    "## Расчет столбца с ценой за кв.м"
   ]
  },
  {
   "cell_type": "code",
   "execution_count": 26,
   "id": "6990b991-81a8-4a27-b2c9-09aec1ac576f",
   "metadata": {},
   "outputs": [],
   "source": [
    "rent['price_per_meter'] = rent['price'].div(rent['area']).round(0)"
   ]
  },
  {
   "cell_type": "markdown",
   "id": "d318111d-9c89-40ae-8b4e-5228ad328116",
   "metadata": {},
   "source": [
    "## Округление данных"
   ]
  },
  {
   "cell_type": "code",
   "execution_count": 28,
   "id": "f6e0b3d7-4f07-4768-9bee-467ef3830828",
   "metadata": {},
   "outputs": [],
   "source": [
    "rent['remoute_from_center'] = rent['remoute_from_center'].round(0)"
   ]
  },
  {
   "cell_type": "markdown",
   "id": "902aa3ac-d177-4bfc-a4d0-ccbb93b77bb9",
   "metadata": {},
   "source": [
    "## Проверка валидности данных"
   ]
  },
  {
   "cell_type": "code",
   "execution_count": 30,
   "id": "d62e7f75-c10a-4f4a-8df3-531dd5603252",
   "metadata": {},
   "outputs": [
    {
     "data": {
      "text/html": [
       "<div>\n",
       "<style scoped>\n",
       "    .dataframe tbody tr th:only-of-type {\n",
       "        vertical-align: middle;\n",
       "    }\n",
       "\n",
       "    .dataframe tbody tr th {\n",
       "        vertical-align: top;\n",
       "    }\n",
       "\n",
       "    .dataframe thead th {\n",
       "        text-align: right;\n",
       "    }\n",
       "</style>\n",
       "<table border=\"1\" class=\"dataframe\">\n",
       "  <thead>\n",
       "    <tr style=\"text-align: right;\">\n",
       "      <th></th>\n",
       "      <th>rooms</th>\n",
       "      <th>level</th>\n",
       "      <th>area</th>\n",
       "      <th>price</th>\n",
       "      <th>material</th>\n",
       "      <th>published</th>\n",
       "      <th>city</th>\n",
       "      <th>remoute_from_center</th>\n",
       "      <th>build_oldest</th>\n",
       "      <th>level_all</th>\n",
       "      <th>price_per_meter</th>\n",
       "    </tr>\n",
       "  </thead>\n",
       "  <tbody>\n",
       "  </tbody>\n",
       "</table>\n",
       "</div>"
      ],
      "text/plain": [
       "Empty DataFrame\n",
       "Columns: [rooms, level, area, price, material, published, city, remoute_from_center, build_oldest, level_all, price_per_meter]\n",
       "Index: []"
      ]
     },
     "execution_count": 30,
     "metadata": {},
     "output_type": "execute_result"
    }
   ],
   "source": [
    "# проверка, что этаж не превышает этажности здания\n",
    "rent.query('level > level_all')"
   ]
  },
  {
   "cell_type": "markdown",
   "id": "9d8cf3a9-de5d-459d-b1df-56927d47be65",
   "metadata": {},
   "source": [
    "## Фильтрация данных"
   ]
  },
  {
   "cell_type": "code",
   "execution_count": 32,
   "id": "75010a9b-3e0a-4ea6-a5ff-8b172f5fb396",
   "metadata": {},
   "outputs": [
    {
     "data": {
      "text/plain": [
       "(7898, 11)"
      ]
     },
     "execution_count": 32,
     "metadata": {},
     "output_type": "execute_result"
    }
   ],
   "source": [
    "start_date = dt.datetime(2021, 1, 1)\n",
    "end_date = dt.datetime(2022, 3, 1)\n",
    "rent = rent.loc[(rent['published'] >= start_date) & (rent['published'] < end_date) & (rent['city'] == 'Москва')]\n",
    "rent.shape"
   ]
  },
  {
   "cell_type": "code",
   "execution_count": 34,
   "id": "0af955b1-d4cc-4e06-87e5-794efffeb5a9",
   "metadata": {},
   "outputs": [
    {
     "data": {
      "text/plain": [
       "471"
      ]
     },
     "execution_count": 34,
     "metadata": {},
     "output_type": "execute_result"
    }
   ],
   "source": [
    "rent.loc[rent.rooms == 0].shape[0]"
   ]
  },
  {
   "cell_type": "markdown",
   "id": "06a2fd04-af22-4310-8b91-df18b5d1eea4",
   "metadata": {},
   "source": [
    "## !!!Удаление выбросов"
   ]
  },
  {
   "cell_type": "code",
   "execution_count": 210,
   "id": "4973b37d-3600-4ff8-b4aa-4479ad24b47a",
   "metadata": {},
   "outputs": [
    {
     "data": {
      "text/html": [
       "<div>\n",
       "<style scoped>\n",
       "    .dataframe tbody tr th:only-of-type {\n",
       "        vertical-align: middle;\n",
       "    }\n",
       "\n",
       "    .dataframe tbody tr th {\n",
       "        vertical-align: top;\n",
       "    }\n",
       "\n",
       "    .dataframe thead th {\n",
       "        text-align: right;\n",
       "    }\n",
       "</style>\n",
       "<table border=\"1\" class=\"dataframe\">\n",
       "  <thead>\n",
       "    <tr style=\"text-align: right;\">\n",
       "      <th></th>\n",
       "      <th>rooms</th>\n",
       "      <th>level</th>\n",
       "      <th>area</th>\n",
       "      <th>price</th>\n",
       "      <th>material</th>\n",
       "      <th>published</th>\n",
       "      <th>city</th>\n",
       "      <th>remoute_from_center</th>\n",
       "      <th>build_oldest</th>\n",
       "      <th>level_all</th>\n",
       "      <th>price_per_meter</th>\n",
       "    </tr>\n",
       "  </thead>\n",
       "  <tbody>\n",
       "    <tr>\n",
       "      <th>759</th>\n",
       "      <td>2</td>\n",
       "      <td>9</td>\n",
       "      <td>52.0</td>\n",
       "      <td>45000000.0</td>\n",
       "      <td>Панель</td>\n",
       "      <td>2022-02-10</td>\n",
       "      <td>Москва</td>\n",
       "      <td>14.0</td>\n",
       "      <td>старый фонд</td>\n",
       "      <td>14</td>\n",
       "      <td>865385.0</td>\n",
       "    </tr>\n",
       "    <tr>\n",
       "      <th>1500</th>\n",
       "      <td>1</td>\n",
       "      <td>4</td>\n",
       "      <td>30.0</td>\n",
       "      <td>29000000.0</td>\n",
       "      <td>Кирпич</td>\n",
       "      <td>2022-02-10</td>\n",
       "      <td>Москва</td>\n",
       "      <td>11.0</td>\n",
       "      <td>старый фонд</td>\n",
       "      <td>5</td>\n",
       "      <td>966667.0</td>\n",
       "    </tr>\n",
       "  </tbody>\n",
       "</table>\n",
       "</div>"
      ],
      "text/plain": [
       "      rooms  level  area       price material  published    city  \\\n",
       "759       2      9  52.0  45000000.0   Панель 2022-02-10  Москва   \n",
       "1500      1      4  30.0  29000000.0   Кирпич 2022-02-10  Москва   \n",
       "\n",
       "      remoute_from_center build_oldest  level_all  price_per_meter  \n",
       "759                  14.0  старый фонд         14         865385.0  \n",
       "1500                 11.0  старый фонд          5         966667.0  "
      ]
     },
     "execution_count": 210,
     "metadata": {},
     "output_type": "execute_result"
    }
   ],
   "source": [
    "rent.loc[rent.price_per_meter > 15000]"
   ]
  },
  {
   "cell_type": "markdown",
   "id": "3cb5012f-27b4-4804-8233-e9007cc0da81",
   "metadata": {},
   "source": [
    "## Переименование столбцов"
   ]
  },
  {
   "cell_type": "code",
   "execution_count": 179,
   "id": "7eca0002-30f6-4987-9bae-c5889277eee1",
   "metadata": {},
   "outputs": [
    {
     "data": {
      "text/html": [
       "<div>\n",
       "<style scoped>\n",
       "    .dataframe tbody tr th:only-of-type {\n",
       "        vertical-align: middle;\n",
       "    }\n",
       "\n",
       "    .dataframe tbody tr th {\n",
       "        vertical-align: top;\n",
       "    }\n",
       "\n",
       "    .dataframe thead th {\n",
       "        text-align: right;\n",
       "    }\n",
       "</style>\n",
       "<table border=\"1\" class=\"dataframe\">\n",
       "  <thead>\n",
       "    <tr style=\"text-align: right;\">\n",
       "      <th></th>\n",
       "      <th>Количество_комнат</th>\n",
       "      <th>Этаж</th>\n",
       "      <th>Площадь</th>\n",
       "      <th>Арендная_плата</th>\n",
       "      <th>Конструктив_дома</th>\n",
       "      <th>Дата_публикации</th>\n",
       "      <th>Город</th>\n",
       "      <th>Расстояние от центра</th>\n",
       "      <th>Тип недвижимости</th>\n",
       "      <th>Этажность</th>\n",
       "    </tr>\n",
       "  </thead>\n",
       "  <tbody>\n",
       "    <tr>\n",
       "      <th>189</th>\n",
       "      <td>1</td>\n",
       "      <td>2</td>\n",
       "      <td>32.0</td>\n",
       "      <td>29000.0</td>\n",
       "      <td>Панель</td>\n",
       "      <td>2021-11-22</td>\n",
       "      <td>Москва</td>\n",
       "      <td>11.075363</td>\n",
       "      <td>старый фонд</td>\n",
       "      <td>5</td>\n",
       "    </tr>\n",
       "    <tr>\n",
       "      <th>190</th>\n",
       "      <td>1</td>\n",
       "      <td>1</td>\n",
       "      <td>31.0</td>\n",
       "      <td>48000.0</td>\n",
       "      <td>Панель</td>\n",
       "      <td>2022-01-11</td>\n",
       "      <td>Москва</td>\n",
       "      <td>17.033073</td>\n",
       "      <td>старый фонд</td>\n",
       "      <td>9</td>\n",
       "    </tr>\n",
       "    <tr>\n",
       "      <th>191</th>\n",
       "      <td>1</td>\n",
       "      <td>5</td>\n",
       "      <td>38.9</td>\n",
       "      <td>44000.0</td>\n",
       "      <td>Панель</td>\n",
       "      <td>2022-02-03</td>\n",
       "      <td>Москва</td>\n",
       "      <td>10.463894</td>\n",
       "      <td>вторичка</td>\n",
       "      <td>9</td>\n",
       "    </tr>\n",
       "  </tbody>\n",
       "</table>\n",
       "</div>"
      ],
      "text/plain": [
       "     Количество_комнат  Этаж  Площадь  Арендная_плата Конструктив_дома  \\\n",
       "189                  1     2     32.0         29000.0           Панель   \n",
       "190                  1     1     31.0         48000.0           Панель   \n",
       "191                  1     5     38.9         44000.0           Панель   \n",
       "\n",
       "    Дата_публикации   Город  Расстояние от центра Тип недвижимости  Этажность  \n",
       "189      2021-11-22  Москва             11.075363      старый фонд          5  \n",
       "190      2022-01-11  Москва             17.033073      старый фонд          9  \n",
       "191      2022-02-03  Москва             10.463894         вторичка          9  "
      ]
     },
     "execution_count": 179,
     "metadata": {},
     "output_type": "execute_result"
    }
   ],
   "source": [
    "columns={'rooms': 'Количество_комнат',\n",
    "         'level': 'Этаж',\n",
    "         'area': 'Площадь',\n",
    "         'price': 'Арендная_плата',\n",
    "         'material': 'Конструктив_дома',\n",
    "         'published': 'Дата_публикации',\n",
    "         'city': 'Город',\n",
    "         'remoute_from_center': 'Расстояние от центра',\n",
    "         'build_oldest': 'Тип недвижимости',\n",
    "         'level_all': 'Этажность',\n",
    "         'price_per_meter': 'Арендная_плата_за_метр'}\n",
    "rent = rent.rename(columns=columns)\n",
    "rent[:3]"
   ]
  }
 ],
 "metadata": {
  "kernelspec": {
   "display_name": "anaconda-2024.02-py310",
   "language": "python",
   "name": "conda-env-anaconda-2024.02-py310-py"
  },
  "language_info": {
   "codemirror_mode": {
    "name": "ipython",
    "version": 3
   },
   "file_extension": ".py",
   "mimetype": "text/x-python",
   "name": "python",
   "nbconvert_exporter": "python",
   "pygments_lexer": "ipython3",
   "version": "3.10.14"
  }
 },
 "nbformat": 4,
 "nbformat_minor": 5
}
