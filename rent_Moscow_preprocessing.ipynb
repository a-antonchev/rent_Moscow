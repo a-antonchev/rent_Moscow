{
 "cells": [
  {
   "cell_type": "markdown",
   "id": "2acfb45c-51bf-412c-987e-b2d0d33a56e6",
   "metadata": {},
   "source": [
    "# Анализ данных рынка недвижимости. Предобработка данных"
   ]
  },
  {
   "cell_type": "code",
   "execution_count": 3,
   "id": "443b6134-565d-4348-b99e-dc1d5cfdc038",
   "metadata": {},
   "outputs": [],
   "source": [
    "import pandas as pd\n",
    "import numpy as np\n",
    "import datetime as dt\n",
    "import matplotlib.pyplot as plt"
   ]
  },
  {
   "cell_type": "markdown",
   "id": "f81ff509-cdf5-42ee-9618-c8097710ec85",
   "metadata": {},
   "source": [
    "### 1. Загрузка данных и общая информация"
   ]
  },
  {
   "cell_type": "code",
   "execution_count": 5,
   "id": "af680678-1576-40d1-bd5a-7cbc2a80efb3",
   "metadata": {},
   "outputs": [
    {
     "data": {
      "text/html": [
       "<div>\n",
       "<style scoped>\n",
       "    .dataframe tbody tr th:only-of-type {\n",
       "        vertical-align: middle;\n",
       "    }\n",
       "\n",
       "    .dataframe tbody tr th {\n",
       "        vertical-align: top;\n",
       "    }\n",
       "\n",
       "    .dataframe thead th {\n",
       "        text-align: right;\n",
       "    }\n",
       "</style>\n",
       "<table border=\"1\" class=\"dataframe\">\n",
       "  <thead>\n",
       "    <tr style=\"text-align: right;\">\n",
       "      <th></th>\n",
       "      <th>object_type</th>\n",
       "      <th>type</th>\n",
       "      <th>rooms</th>\n",
       "      <th>level</th>\n",
       "      <th>kitchen_area</th>\n",
       "      <th>living_area</th>\n",
       "      <th>area</th>\n",
       "      <th>price_by_meter</th>\n",
       "      <th>price</th>\n",
       "      <th>material</th>\n",
       "      <th>...</th>\n",
       "      <th>build_walls</th>\n",
       "      <th>heating</th>\n",
       "      <th>gas</th>\n",
       "      <th>longitude</th>\n",
       "      <th>latitude</th>\n",
       "      <th>agencyName</th>\n",
       "      <th>areaRating</th>\n",
       "      <th>city</th>\n",
       "      <th>remoute_from_center</th>\n",
       "      <th>build_oldest</th>\n",
       "    </tr>\n",
       "  </thead>\n",
       "  <tbody>\n",
       "    <tr>\n",
       "      <th>0</th>\n",
       "      <td>0</td>\n",
       "      <td>Не заполнено</td>\n",
       "      <td>2</td>\n",
       "      <td>3/5</td>\n",
       "      <td>10.0</td>\n",
       "      <td>40.0</td>\n",
       "      <td>60.0</td>\n",
       "      <td>200.0</td>\n",
       "      <td>12000.0</td>\n",
       "      <td>Панель</td>\n",
       "      <td>...</td>\n",
       "      <td>Не заполнено</td>\n",
       "      <td>0</td>\n",
       "      <td>0</td>\n",
       "      <td>47.863361</td>\n",
       "      <td>56.647657</td>\n",
       "      <td>Антон</td>\n",
       "      <td>3.634451</td>\n",
       "      <td>Йошкар-Ола</td>\n",
       "      <td>1.951714</td>\n",
       "      <td>new</td>\n",
       "    </tr>\n",
       "    <tr>\n",
       "      <th>1</th>\n",
       "      <td>0</td>\n",
       "      <td>Квартира</td>\n",
       "      <td>2</td>\n",
       "      <td>1/10</td>\n",
       "      <td>12.0</td>\n",
       "      <td>45.0</td>\n",
       "      <td>60.0</td>\n",
       "      <td>583.0</td>\n",
       "      <td>35000.0</td>\n",
       "      <td>Кирпич</td>\n",
       "      <td>...</td>\n",
       "      <td>0</td>\n",
       "      <td>0</td>\n",
       "      <td>0</td>\n",
       "      <td>47.877609</td>\n",
       "      <td>56.625316</td>\n",
       "      <td>Антон Александрович</td>\n",
       "      <td>3.634451</td>\n",
       "      <td>Йошкар-Ола</td>\n",
       "      <td>1.702297</td>\n",
       "      <td>new</td>\n",
       "    </tr>\n",
       "    <tr>\n",
       "      <th>2</th>\n",
       "      <td>0</td>\n",
       "      <td>Многоквартирный дом</td>\n",
       "      <td>3</td>\n",
       "      <td>1/5</td>\n",
       "      <td>10.0</td>\n",
       "      <td>54.0</td>\n",
       "      <td>82.0</td>\n",
       "      <td>268.0</td>\n",
       "      <td>22000.0</td>\n",
       "      <td>Кирпич</td>\n",
       "      <td>...</td>\n",
       "      <td>Кирпич</td>\n",
       "      <td>Центральное</td>\n",
       "      <td>Да</td>\n",
       "      <td>47.900983</td>\n",
       "      <td>56.644836</td>\n",
       "      <td>Риелторская компания \"Партнеры\"</td>\n",
       "      <td>3.634451</td>\n",
       "      <td>Йошкар-Ола</td>\n",
       "      <td>0.920945</td>\n",
       "      <td>old</td>\n",
       "    </tr>\n",
       "    <tr>\n",
       "      <th>3</th>\n",
       "      <td>0</td>\n",
       "      <td>Многоквартирный дом</td>\n",
       "      <td>1</td>\n",
       "      <td>2/5</td>\n",
       "      <td>8.0</td>\n",
       "      <td>18.0</td>\n",
       "      <td>35.0</td>\n",
       "      <td>314.0</td>\n",
       "      <td>11000.0</td>\n",
       "      <td>Кирпич</td>\n",
       "      <td>...</td>\n",
       "      <td>Кирпич</td>\n",
       "      <td>Центральное</td>\n",
       "      <td>Да</td>\n",
       "      <td>47.878426</td>\n",
       "      <td>56.647054</td>\n",
       "      <td>Риелторская компания \"Партнеры\"</td>\n",
       "      <td>3.634451</td>\n",
       "      <td>Йошкар-Ола</td>\n",
       "      <td>1.193907</td>\n",
       "      <td>old</td>\n",
       "    </tr>\n",
       "  </tbody>\n",
       "</table>\n",
       "<p>4 rows × 30 columns</p>\n",
       "</div>"
      ],
      "text/plain": [
       "   object_type                 type  rooms level  kitchen_area  living_area  \\\n",
       "0            0         Не заполнено      2   3/5          10.0         40.0   \n",
       "1            0             Квартира      2  1/10          12.0         45.0   \n",
       "2            0  Многоквартирный дом      3   1/5          10.0         54.0   \n",
       "3            0  Многоквартирный дом      1   2/5           8.0         18.0   \n",
       "\n",
       "   area  price_by_meter    price material  ...   build_walls      heating  \\\n",
       "0  60.0           200.0  12000.0   Панель  ...  Не заполнено            0   \n",
       "1  60.0           583.0  35000.0   Кирпич  ...             0            0   \n",
       "2  82.0           268.0  22000.0   Кирпич  ...        Кирпич  Центральное   \n",
       "3  35.0           314.0  11000.0   Кирпич  ...        Кирпич  Центральное   \n",
       "\n",
       "   gas  longitude   latitude                       agencyName  areaRating  \\\n",
       "0    0  47.863361  56.647657                            Антон    3.634451   \n",
       "1    0  47.877609  56.625316              Антон Александрович    3.634451   \n",
       "2   Да  47.900983  56.644836  Риелторская компания \"Партнеры\"    3.634451   \n",
       "3   Да  47.878426  56.647054  Риелторская компания \"Партнеры\"    3.634451   \n",
       "\n",
       "         city  remoute_from_center build_oldest  \n",
       "0  Йошкар-Ола             1.951714          new  \n",
       "1  Йошкар-Ола             1.702297          new  \n",
       "2  Йошкар-Ола             0.920945          old  \n",
       "3  Йошкар-Ола             1.193907          old  \n",
       "\n",
       "[4 rows x 30 columns]"
      ]
     },
     "execution_count": 5,
     "metadata": {},
     "output_type": "execute_result"
    }
   ],
   "source": [
    "# Считать датасет, столбец с датой публикации объявления сразу преобразовать в datetime\n",
    "path = 'https://gist.github.com/a-antonchev/f6eeafda405f4fc19d43965d3bcc462e/raw/rent_apartments.csv'\n",
    "rent = pd.read_csv(path, sep=',', parse_dates=['published'], date_format='%d/%m/%Y')\n",
    "rent.head(4)"
   ]
  },
  {
   "cell_type": "code",
   "execution_count": 7,
   "id": "7f782d01-3fef-4e7f-a344-7ec4e6395930",
   "metadata": {},
   "outputs": [
    {
     "name": "stdout",
     "output_type": "stream",
     "text": [
      "<class 'pandas.core.frame.DataFrame'>\n",
      "RangeIndex: 12107 entries, 0 to 12106\n",
      "Data columns (total 30 columns):\n",
      " #   Column               Non-Null Count  Dtype         \n",
      "---  ------               --------------  -----         \n",
      " 0   object_type          12107 non-null  int64         \n",
      " 1   type                 12107 non-null  object        \n",
      " 2   rooms                12107 non-null  int64         \n",
      " 3   level                12107 non-null  object        \n",
      " 4   kitchen_area         8595 non-null   float64       \n",
      " 5   living_area          8052 non-null   float64       \n",
      " 6   area                 12107 non-null  float64       \n",
      " 7   price_by_meter       12107 non-null  float64       \n",
      " 8   price                12107 non-null  float64       \n",
      " 9   material             12072 non-null  object        \n",
      " 10  published            12107 non-null  datetime64[ns]\n",
      " 11  updated              12107 non-null  object        \n",
      " 12  build_year           12107 non-null  int64         \n",
      " 13  build_serias         12107 non-null  object        \n",
      " 14  build_type           12107 non-null  int64         \n",
      " 15  max_levels           12107 non-null  int64         \n",
      " 16  min_levels           12107 non-null  int64         \n",
      " 17  rubbish_chute        12107 non-null  object        \n",
      " 18  enterances           12107 non-null  int64         \n",
      " 19  build_overlap        12107 non-null  object        \n",
      " 20  build_walls          12107 non-null  object        \n",
      " 21  heating              12107 non-null  object        \n",
      " 22  gas                  12107 non-null  object        \n",
      " 23  longitude            12107 non-null  float64       \n",
      " 24  latitude             12107 non-null  float64       \n",
      " 25  agencyName           12107 non-null  object        \n",
      " 26  areaRating           12107 non-null  float64       \n",
      " 27  city                 12107 non-null  object        \n",
      " 28  remoute_from_center  12107 non-null  float64       \n",
      " 29  build_oldest         12107 non-null  object        \n",
      "dtypes: datetime64[ns](1), float64(9), int64(7), object(13)\n",
      "memory usage: 2.8+ MB\n"
     ]
    }
   ],
   "source": [
    "rent.info()"
   ]
  },
  {
   "cell_type": "code",
   "execution_count": 9,
   "id": "3e78b47a-9a9f-4fe1-895d-4ddce97b3df8",
   "metadata": {},
   "outputs": [
    {
     "data": {
      "text/plain": [
       "(12107, 30)"
      ]
     },
     "execution_count": 9,
     "metadata": {},
     "output_type": "execute_result"
    }
   ],
   "source": [
    "# Получить размерность сформированного датасета\n",
    "rent.shape"
   ]
  },
  {
   "cell_type": "code",
   "execution_count": 11,
   "id": "956a95e3-9f40-4fa3-bb69-0fa5a8891400",
   "metadata": {},
   "outputs": [
    {
     "data": {
      "text/plain": [
       "rooms\n",
       "2     4228\n",
       "1     3831\n",
       "3     2270\n",
       "4      728\n",
       "0      657\n",
       "5      361\n",
       "7       13\n",
       "8        9\n",
       "10       7\n",
       "9        3\n",
       "Name: count, dtype: int64"
      ]
     },
     "execution_count": 11,
     "metadata": {},
     "output_type": "execute_result"
    }
   ],
   "source": [
    "# Значения в столбце rooms (количество комнат в квартире); квартиры с количеством комнат 0 - студии\n",
    "rent.rooms.value_counts()"
   ]
  },
  {
   "cell_type": "code",
   "execution_count": 13,
   "id": "c2b6e414-4409-454f-a1b1-bba088003c4a",
   "metadata": {},
   "outputs": [
    {
     "data": {
      "text/plain": [
       "material\n",
       "Кирпич     4194\n",
       "Монолит    3944\n",
       "Панель     3500\n",
       "Блоки       428\n",
       "Дерево        6\n",
       "Name: count, dtype: int64"
      ]
     },
     "execution_count": 13,
     "metadata": {},
     "output_type": "execute_result"
    }
   ],
   "source": [
    "# Значения и их количество в столбце material (материал постройки дома)\n",
    "rent.material.value_counts()"
   ]
  },
  {
   "cell_type": "code",
   "execution_count": 15,
   "id": "f996f948-0102-4a92-afd0-b7dc2c49d269",
   "metadata": {},
   "outputs": [
    {
     "data": {
      "text/plain": [
       "build_oldest\n",
       "new       5438\n",
       "old       4443\n",
       "middle    2226\n",
       "Name: count, dtype: int64"
      ]
     },
     "execution_count": 15,
     "metadata": {},
     "output_type": "execute_result"
    }
   ],
   "source": [
    "# Значения и их количество в столбце build_oldest (новизна дома)\n",
    "rent.build_oldest.value_counts()"
   ]
  },
  {
   "cell_type": "markdown",
   "id": "37effbcd-b64b-4d5a-8204-13143af84f22",
   "metadata": {},
   "source": [
    "### 2. Обработка дубликатов"
   ]
  },
  {
   "cell_type": "markdown",
   "id": "934fca5e-66ac-47a7-9f03-97411ff105c5",
   "metadata": {},
   "source": [
    "В соответствии с техническим заданием проекта необходимо удалить только полные дубликаты строк."
   ]
  },
  {
   "cell_type": "code",
   "execution_count": 17,
   "id": "ec55b046-102c-48cb-97bc-fd2c116f4d32",
   "metadata": {},
   "outputs": [
    {
     "data": {
      "text/plain": [
       "30"
      ]
     },
     "execution_count": 17,
     "metadata": {},
     "output_type": "execute_result"
    }
   ],
   "source": [
    "# Вывести количество строк полных дубликатов\n",
    "rent.duplicated().sum()"
   ]
  },
  {
   "cell_type": "code",
   "execution_count": 19,
   "id": "6beb61fc-2863-43c4-9bba-933aecde934c",
   "metadata": {},
   "outputs": [
    {
     "data": {
      "text/html": [
       "<div>\n",
       "<style scoped>\n",
       "    .dataframe tbody tr th:only-of-type {\n",
       "        vertical-align: middle;\n",
       "    }\n",
       "\n",
       "    .dataframe tbody tr th {\n",
       "        vertical-align: top;\n",
       "    }\n",
       "\n",
       "    .dataframe thead th {\n",
       "        text-align: right;\n",
       "    }\n",
       "</style>\n",
       "<table border=\"1\" class=\"dataframe\">\n",
       "  <thead>\n",
       "    <tr style=\"text-align: right;\">\n",
       "      <th></th>\n",
       "      <th>object_type</th>\n",
       "      <th>type</th>\n",
       "      <th>rooms</th>\n",
       "      <th>level</th>\n",
       "      <th>kitchen_area</th>\n",
       "      <th>living_area</th>\n",
       "      <th>area</th>\n",
       "      <th>price_by_meter</th>\n",
       "      <th>price</th>\n",
       "      <th>material</th>\n",
       "      <th>...</th>\n",
       "      <th>build_walls</th>\n",
       "      <th>heating</th>\n",
       "      <th>gas</th>\n",
       "      <th>longitude</th>\n",
       "      <th>latitude</th>\n",
       "      <th>agencyName</th>\n",
       "      <th>areaRating</th>\n",
       "      <th>city</th>\n",
       "      <th>remoute_from_center</th>\n",
       "      <th>build_oldest</th>\n",
       "    </tr>\n",
       "  </thead>\n",
       "  <tbody>\n",
       "    <tr>\n",
       "      <th>2615</th>\n",
       "      <td>0</td>\n",
       "      <td>Квартира</td>\n",
       "      <td>0</td>\n",
       "      <td>8/13</td>\n",
       "      <td>NaN</td>\n",
       "      <td>NaN</td>\n",
       "      <td>34.0</td>\n",
       "      <td>2206.0</td>\n",
       "      <td>75000.0</td>\n",
       "      <td>Панель</td>\n",
       "      <td>...</td>\n",
       "      <td>0</td>\n",
       "      <td>0</td>\n",
       "      <td>0</td>\n",
       "      <td>37.523213</td>\n",
       "      <td>55.790782</td>\n",
       "      <td>Апартаменты24</td>\n",
       "      <td>4.127402</td>\n",
       "      <td>Москва</td>\n",
       "      <td>7.212755</td>\n",
       "      <td>new</td>\n",
       "    </tr>\n",
       "    <tr>\n",
       "      <th>3323</th>\n",
       "      <td>0</td>\n",
       "      <td>Квартира</td>\n",
       "      <td>1</td>\n",
       "      <td>3/7</td>\n",
       "      <td>NaN</td>\n",
       "      <td>25.0</td>\n",
       "      <td>29.0</td>\n",
       "      <td>2759.0</td>\n",
       "      <td>80000.0</td>\n",
       "      <td>Кирпич</td>\n",
       "      <td>...</td>\n",
       "      <td>0</td>\n",
       "      <td>0</td>\n",
       "      <td>0</td>\n",
       "      <td>37.672172</td>\n",
       "      <td>55.776294</td>\n",
       "      <td>Сергей</td>\n",
       "      <td>3.811937</td>\n",
       "      <td>Москва</td>\n",
       "      <td>4.451140</td>\n",
       "      <td>new</td>\n",
       "    </tr>\n",
       "    <tr>\n",
       "      <th>3409</th>\n",
       "      <td>0</td>\n",
       "      <td>Квартира</td>\n",
       "      <td>0</td>\n",
       "      <td>8/13</td>\n",
       "      <td>NaN</td>\n",
       "      <td>NaN</td>\n",
       "      <td>34.0</td>\n",
       "      <td>2324.0</td>\n",
       "      <td>79000.0</td>\n",
       "      <td>Панель</td>\n",
       "      <td>...</td>\n",
       "      <td>0</td>\n",
       "      <td>0</td>\n",
       "      <td>0</td>\n",
       "      <td>37.523213</td>\n",
       "      <td>55.790782</td>\n",
       "      <td>Апартаменты24</td>\n",
       "      <td>4.127402</td>\n",
       "      <td>Москва</td>\n",
       "      <td>7.212755</td>\n",
       "      <td>new</td>\n",
       "    </tr>\n",
       "  </tbody>\n",
       "</table>\n",
       "<p>3 rows × 30 columns</p>\n",
       "</div>"
      ],
      "text/plain": [
       "      object_type      type  rooms level  kitchen_area  living_area  area  \\\n",
       "2615            0  Квартира      0  8/13           NaN          NaN  34.0   \n",
       "3323            0  Квартира      1   3/7           NaN         25.0  29.0   \n",
       "3409            0  Квартира      0  8/13           NaN          NaN  34.0   \n",
       "\n",
       "      price_by_meter    price material  ... build_walls heating  gas  \\\n",
       "2615          2206.0  75000.0   Панель  ...           0       0    0   \n",
       "3323          2759.0  80000.0   Кирпич  ...           0       0    0   \n",
       "3409          2324.0  79000.0   Панель  ...           0       0    0   \n",
       "\n",
       "      longitude   latitude     agencyName  areaRating    city  \\\n",
       "2615  37.523213  55.790782  Апартаменты24    4.127402  Москва   \n",
       "3323  37.672172  55.776294         Сергей    3.811937  Москва   \n",
       "3409  37.523213  55.790782  Апартаменты24    4.127402  Москва   \n",
       "\n",
       "      remoute_from_center build_oldest  \n",
       "2615             7.212755          new  \n",
       "3323             4.451140          new  \n",
       "3409             7.212755          new  \n",
       "\n",
       "[3 rows x 30 columns]"
      ]
     },
     "execution_count": 19,
     "metadata": {},
     "output_type": "execute_result"
    }
   ],
   "source": [
    "# Вывести несколько дубликатов для информации\n",
    "rent[rent.duplicated()][:3]"
   ]
  },
  {
   "cell_type": "code",
   "execution_count": 21,
   "id": "7ca5809d-d31b-42cc-847f-afa6c256329c",
   "metadata": {},
   "outputs": [],
   "source": [
    "# Сохранить дубликаты в файл\n",
    "rent[rent.duplicated()].to_csv('rent_apartments_duplicates.csv')"
   ]
  },
  {
   "cell_type": "code",
   "execution_count": 23,
   "id": "1a0b0dcc-028c-4c72-9b59-b608ab17c7e9",
   "metadata": {},
   "outputs": [],
   "source": [
    "# Удалить полные дубликаты строк\n",
    "rent = rent.drop_duplicates()"
   ]
  },
  {
   "cell_type": "markdown",
   "id": "24a92d31-60e9-4d6a-b22f-610e9ac34de8",
   "metadata": {},
   "source": [
    "### 3. Отбор столбцов для анализа"
   ]
  },
  {
   "cell_type": "code",
   "execution_count": 25,
   "id": "3def3957-881b-46d5-a52d-23ac7f88bbf4",
   "metadata": {},
   "outputs": [
    {
     "data": {
      "text/html": [
       "<div>\n",
       "<style scoped>\n",
       "    .dataframe tbody tr th:only-of-type {\n",
       "        vertical-align: middle;\n",
       "    }\n",
       "\n",
       "    .dataframe tbody tr th {\n",
       "        vertical-align: top;\n",
       "    }\n",
       "\n",
       "    .dataframe thead th {\n",
       "        text-align: right;\n",
       "    }\n",
       "</style>\n",
       "<table border=\"1\" class=\"dataframe\">\n",
       "  <thead>\n",
       "    <tr style=\"text-align: right;\">\n",
       "      <th></th>\n",
       "      <th>rooms</th>\n",
       "      <th>level</th>\n",
       "      <th>area</th>\n",
       "      <th>price</th>\n",
       "      <th>material</th>\n",
       "      <th>published</th>\n",
       "      <th>city</th>\n",
       "      <th>remoute_from_center</th>\n",
       "      <th>build_oldest</th>\n",
       "    </tr>\n",
       "  </thead>\n",
       "  <tbody>\n",
       "    <tr>\n",
       "      <th>0</th>\n",
       "      <td>2</td>\n",
       "      <td>3/5</td>\n",
       "      <td>60.0</td>\n",
       "      <td>12000.0</td>\n",
       "      <td>Панель</td>\n",
       "      <td>2021-05-20</td>\n",
       "      <td>Йошкар-Ола</td>\n",
       "      <td>1.951714</td>\n",
       "      <td>new</td>\n",
       "    </tr>\n",
       "    <tr>\n",
       "      <th>1</th>\n",
       "      <td>2</td>\n",
       "      <td>1/10</td>\n",
       "      <td>60.0</td>\n",
       "      <td>35000.0</td>\n",
       "      <td>Кирпич</td>\n",
       "      <td>2021-09-30</td>\n",
       "      <td>Йошкар-Ола</td>\n",
       "      <td>1.702297</td>\n",
       "      <td>new</td>\n",
       "    </tr>\n",
       "    <tr>\n",
       "      <th>2</th>\n",
       "      <td>3</td>\n",
       "      <td>1/5</td>\n",
       "      <td>82.0</td>\n",
       "      <td>22000.0</td>\n",
       "      <td>Кирпич</td>\n",
       "      <td>2021-09-15</td>\n",
       "      <td>Йошкар-Ола</td>\n",
       "      <td>0.920945</td>\n",
       "      <td>old</td>\n",
       "    </tr>\n",
       "  </tbody>\n",
       "</table>\n",
       "</div>"
      ],
      "text/plain": [
       "   rooms level  area    price material  published        city  \\\n",
       "0      2   3/5  60.0  12000.0   Панель 2021-05-20  Йошкар-Ола   \n",
       "1      2  1/10  60.0  35000.0   Кирпич 2021-09-30  Йошкар-Ола   \n",
       "2      3   1/5  82.0  22000.0   Кирпич 2021-09-15  Йошкар-Ола   \n",
       "\n",
       "   remoute_from_center build_oldest  \n",
       "0             1.951714          new  \n",
       "1             1.702297          new  \n",
       "2             0.920945          old  "
      ]
     },
     "execution_count": 25,
     "metadata": {},
     "output_type": "execute_result"
    }
   ],
   "source": [
    "usecols = ['rooms', 'level', 'area', 'price', 'material', 'published', 'city', 'remoute_from_center', 'build_oldest']\n",
    "rent = rent.loc[:, usecols]\n",
    "rent[:3]"
   ]
  },
  {
   "cell_type": "markdown",
   "id": "672d6261-f4d8-4e42-b244-5a16d402931e",
   "metadata": {},
   "source": [
    "### 4. Обработка пропусков"
   ]
  },
  {
   "cell_type": "code",
   "execution_count": 27,
   "id": "6c9a9ad0-1bc0-4bbf-9211-c0e21f05aece",
   "metadata": {},
   "outputs": [
    {
     "data": {
      "text/plain": [
       "rooms                   0\n",
       "level                   0\n",
       "area                    0\n",
       "price                   0\n",
       "material               35\n",
       "published               0\n",
       "city                    0\n",
       "remoute_from_center     0\n",
       "build_oldest            0\n",
       "dtype: int64"
      ]
     },
     "execution_count": 27,
     "metadata": {},
     "output_type": "execute_result"
    }
   ],
   "source": [
    "# Получить сводные данные по наличию пропусков данных\n",
    "rent.isna().sum()"
   ]
  },
  {
   "cell_type": "code",
   "execution_count": 29,
   "id": "292481f0-d260-496f-a1a1-a0a80bb28d15",
   "metadata": {},
   "outputs": [
    {
     "data": {
      "text/html": [
       "<div>\n",
       "<style scoped>\n",
       "    .dataframe tbody tr th:only-of-type {\n",
       "        vertical-align: middle;\n",
       "    }\n",
       "\n",
       "    .dataframe tbody tr th {\n",
       "        vertical-align: top;\n",
       "    }\n",
       "\n",
       "    .dataframe thead th {\n",
       "        text-align: right;\n",
       "    }\n",
       "</style>\n",
       "<table border=\"1\" class=\"dataframe\">\n",
       "  <thead>\n",
       "    <tr style=\"text-align: right;\">\n",
       "      <th></th>\n",
       "      <th>rooms</th>\n",
       "      <th>level</th>\n",
       "      <th>area</th>\n",
       "      <th>price</th>\n",
       "      <th>material</th>\n",
       "      <th>published</th>\n",
       "      <th>city</th>\n",
       "      <th>remoute_from_center</th>\n",
       "      <th>build_oldest</th>\n",
       "    </tr>\n",
       "  </thead>\n",
       "  <tbody>\n",
       "    <tr>\n",
       "      <th>2383</th>\n",
       "      <td>1</td>\n",
       "      <td>20/40</td>\n",
       "      <td>43.0</td>\n",
       "      <td>40000.0</td>\n",
       "      <td>NaN</td>\n",
       "      <td>2022-01-27</td>\n",
       "      <td>Москва</td>\n",
       "      <td>19.585574</td>\n",
       "      <td>new</td>\n",
       "    </tr>\n",
       "    <tr>\n",
       "      <th>2539</th>\n",
       "      <td>3</td>\n",
       "      <td>14/18</td>\n",
       "      <td>86.7</td>\n",
       "      <td>110000.0</td>\n",
       "      <td>NaN</td>\n",
       "      <td>2022-02-04</td>\n",
       "      <td>Москва</td>\n",
       "      <td>8.225848</td>\n",
       "      <td>middle</td>\n",
       "    </tr>\n",
       "    <tr>\n",
       "      <th>2775</th>\n",
       "      <td>0</td>\n",
       "      <td>5/25</td>\n",
       "      <td>42.0</td>\n",
       "      <td>50000.0</td>\n",
       "      <td>NaN</td>\n",
       "      <td>2022-02-05</td>\n",
       "      <td>Москва</td>\n",
       "      <td>13.049934</td>\n",
       "      <td>middle</td>\n",
       "    </tr>\n",
       "  </tbody>\n",
       "</table>\n",
       "</div>"
      ],
      "text/plain": [
       "      rooms  level  area     price material  published    city  \\\n",
       "2383      1  20/40  43.0   40000.0      NaN 2022-01-27  Москва   \n",
       "2539      3  14/18  86.7  110000.0      NaN 2022-02-04  Москва   \n",
       "2775      0   5/25  42.0   50000.0      NaN 2022-02-05  Москва   \n",
       "\n",
       "      remoute_from_center build_oldest  \n",
       "2383            19.585574          new  \n",
       "2539             8.225848       middle  \n",
       "2775            13.049934       middle  "
      ]
     },
     "execution_count": 29,
     "metadata": {},
     "output_type": "execute_result"
    }
   ],
   "source": [
    "# В колонке 'material' (материал постройки дома) присутствуют пропуски данных\n",
    "rent.loc[rent.material.isna()][:3]"
   ]
  },
  {
   "cell_type": "code",
   "execution_count": 31,
   "id": "38a6efd4-23ac-42db-b51d-3f2d4f01ee5a",
   "metadata": {},
   "outputs": [
    {
     "name": "stdout",
     "output_type": "stream",
     "text": [
      "Доля строк с пропущенными значениями material к общему количеству строк: 0.24%\n"
     ]
    }
   ],
   "source": [
    "# Оценить масштаб проблемы\n",
    "# Рассчитаем долю строк с пропущенными значениями к общему количеству строк целевом наборе данных (объявления в Москве с 01.01.2021 по 01.02.2022 включительно)\n",
    "target = (rent.city == \"Москва\") & (rent.published >= dt.datetime(2021, 1, 1)) & (rent.published < dt.datetime(2022, 3, 1))\n",
    "count_all_target_lines = rent.loc[target].shape[0]\n",
    "count_lines_with_material_nan = rent.loc[target & (rent.material.isna())].shape[0]\n",
    "prc_ratio_nan = count_lines_with_material_nan * 100.0 / count_all_target_lines\n",
    "print(f'Доля строк с пропущенными значениями material к общему количеству строк: {prc_ratio_nan:.2f}%')"
   ]
  },
  {
   "cell_type": "code",
   "execution_count": 33,
   "id": "a90396b1-8206-4b03-b409-94f3113ce113",
   "metadata": {},
   "outputs": [],
   "source": [
    "# Доля строк с пропущенными значениями составляет 0,24%, принято решение удалить такие строки \n",
    "rent = rent.dropna()"
   ]
  },
  {
   "cell_type": "markdown",
   "id": "cfb91cc9-b06f-4e22-8cf2-4ff86f2fea51",
   "metadata": {},
   "source": [
    "### 5. Распаковка столбца `level`"
   ]
  },
  {
   "cell_type": "markdown",
   "id": "e566c91e-44e6-4f90-9d39-862273d7cf7d",
   "metadata": {},
   "source": [
    "В столбце level указан этаж квартиры и общее количество этажей в доме через прямой слеш '/'. Необходимо разделить значения этажа и этажности по разным столбцам. Считаем, что значение этажа - целое число"
   ]
  },
  {
   "cell_type": "code",
   "execution_count": 35,
   "id": "7c67f3ce-f8e0-4357-886d-5f763925cad9",
   "metadata": {},
   "outputs": [],
   "source": [
    "def get_level(s, i):\n",
    "    \"\"\"\n",
    "    Возвращает элемент списка, приведенный к типу int, по заданному индексу.\n",
    "    При возникновении исключения ValueError возвращает NaN\n",
    "    Parameters\n",
    "    ----------\n",
    "    s : {list}\n",
    "        Список из которого требуется возвратить элемент\n",
    "    i : {int}\n",
    "        Индекс возвращаемого элемента списка\n",
    "    Returns\n",
    "    -------\n",
    "    Элемент списка, преобразованный в int или NaN, при ошибке обработки    \n",
    "    \"\"\"\n",
    "    try:\n",
    "        return int(s[i])\n",
    "    except ValueError:\n",
    "        return np.nan"
   ]
  },
  {
   "cell_type": "code",
   "execution_count": 37,
   "id": "e5fad444-df54-489a-a175-5b4484fd2935",
   "metadata": {},
   "outputs": [
    {
     "data": {
      "text/plain": [
       "rooms                  0\n",
       "level                  0\n",
       "area                   0\n",
       "price                  0\n",
       "material               0\n",
       "published              0\n",
       "city                   0\n",
       "remoute_from_center    0\n",
       "build_oldest           0\n",
       "level_all              0\n",
       "dtype: int64"
      ]
     },
     "execution_count": 37,
     "metadata": {},
     "output_type": "execute_result"
    }
   ],
   "source": [
    "rent['level_temp'] = rent['level'].str.split('/') # создать временный столбец, разделив значения в cтолбце 'level' по '/'\n",
    "rent['level'] = rent['level_temp'].apply(get_level, i=0) # в столбец 'level' записать этаж\n",
    "rent['level_all'] = rent['level_temp'].apply(get_level, i=1) # в столбец 'level_all' записать общее количество этажей дома\n",
    "rent = rent.drop(labels=['level_temp'], axis=1)  # удалить временный столбец\n",
    "rent.isna().sum() # проверить корректность распаковки столбца 'level' (отсутствие значений NaN)"
   ]
  },
  {
   "cell_type": "markdown",
   "id": "bd5145be-2de3-4244-8536-d27adcd1ea9b",
   "metadata": {},
   "source": [
    "### 6. Замена категорий"
   ]
  },
  {
   "cell_type": "code",
   "execution_count": 39,
   "id": "91ee579a-da5f-4232-b2ff-ade261c10686",
   "metadata": {},
   "outputs": [],
   "source": [
    "mapping_template = {'new': 'новостройка', 'old': 'старый фонд', 'middle': 'вторичка'}\n",
    "rent['build_oldest'] = rent['build_oldest'].map(mapping_template)"
   ]
  },
  {
   "cell_type": "markdown",
   "id": "379d7621-0fb4-41ec-8c71-d72a606f6015",
   "metadata": {},
   "source": [
    "### 7. Расчет цены аренды за 1 кв. метр"
   ]
  },
  {
   "cell_type": "code",
   "execution_count": 41,
   "id": "6990b991-81a8-4a27-b2c9-09aec1ac576f",
   "metadata": {},
   "outputs": [],
   "source": [
    "rent['price_per_meter'] = rent['price'].div(rent['area']).round(0)"
   ]
  },
  {
   "cell_type": "markdown",
   "id": "d318111d-9c89-40ae-8b4e-5228ad328116",
   "metadata": {},
   "source": [
    "### 8. Округление данных"
   ]
  },
  {
   "cell_type": "code",
   "execution_count": 43,
   "id": "f6e0b3d7-4f07-4768-9bee-467ef3830828",
   "metadata": {},
   "outputs": [],
   "source": [
    "rent['remoute_from_center'] = rent['remoute_from_center'].round(0)"
   ]
  },
  {
   "cell_type": "markdown",
   "id": "902aa3ac-d177-4bfc-a4d0-ccbb93b77bb9",
   "metadata": {},
   "source": [
    "### 9. Проверка валидности данных"
   ]
  },
  {
   "cell_type": "code",
   "execution_count": 45,
   "id": "d62e7f75-c10a-4f4a-8df3-531dd5603252",
   "metadata": {},
   "outputs": [
    {
     "data": {
      "text/html": [
       "<div>\n",
       "<style scoped>\n",
       "    .dataframe tbody tr th:only-of-type {\n",
       "        vertical-align: middle;\n",
       "    }\n",
       "\n",
       "    .dataframe tbody tr th {\n",
       "        vertical-align: top;\n",
       "    }\n",
       "\n",
       "    .dataframe thead th {\n",
       "        text-align: right;\n",
       "    }\n",
       "</style>\n",
       "<table border=\"1\" class=\"dataframe\">\n",
       "  <thead>\n",
       "    <tr style=\"text-align: right;\">\n",
       "      <th></th>\n",
       "      <th>rooms</th>\n",
       "      <th>level</th>\n",
       "      <th>area</th>\n",
       "      <th>price</th>\n",
       "      <th>material</th>\n",
       "      <th>published</th>\n",
       "      <th>city</th>\n",
       "      <th>remoute_from_center</th>\n",
       "      <th>build_oldest</th>\n",
       "      <th>level_all</th>\n",
       "      <th>price_per_meter</th>\n",
       "    </tr>\n",
       "  </thead>\n",
       "  <tbody>\n",
       "  </tbody>\n",
       "</table>\n",
       "</div>"
      ],
      "text/plain": [
       "Empty DataFrame\n",
       "Columns: [rooms, level, area, price, material, published, city, remoute_from_center, build_oldest, level_all, price_per_meter]\n",
       "Index: []"
      ]
     },
     "execution_count": 45,
     "metadata": {},
     "output_type": "execute_result"
    }
   ],
   "source": [
    "# Проверить, что этаж не превышает этажности здания\n",
    "rent.query('level > level_all')"
   ]
  },
  {
   "cell_type": "markdown",
   "id": "9d8cf3a9-de5d-459d-b1df-56927d47be65",
   "metadata": {},
   "source": [
    "### 10. Фильтрация данных"
   ]
  },
  {
   "cell_type": "code",
   "execution_count": 47,
   "id": "75010a9b-3e0a-4ea6-a5ff-8b172f5fb396",
   "metadata": {},
   "outputs": [],
   "source": [
    "# Отфильтровать данные для анализа, оставить только объявления по Москве за период с 01.01.2021 по 01.02.2022 включительно\n",
    "start_date = dt.datetime(2021, 1, 1)\n",
    "end_date = dt.datetime(2022, 3, 1)\n",
    "rent = rent.loc[(rent['published'] >= start_date) & (rent['published'] < end_date) & (rent['city'] == 'Москва')]"
   ]
  },
  {
   "cell_type": "code",
   "execution_count": 49,
   "id": "4d9e9509-4fa5-485e-86bb-034939e998cb",
   "metadata": {},
   "outputs": [
    {
     "data": {
      "text/plain": [
       "(7898, 11)"
      ]
     },
     "execution_count": 49,
     "metadata": {},
     "output_type": "execute_result"
    }
   ],
   "source": [
    "# Вывести размерность датасета после фильтрации\n",
    "rent.shape"
   ]
  },
  {
   "cell_type": "markdown",
   "id": "06a2fd04-af22-4310-8b91-df18b5d1eea4",
   "metadata": {},
   "source": [
    "### 11. Удаление выбросов"
   ]
  },
  {
   "cell_type": "markdown",
   "id": "38a4e681-988a-413d-970b-5f5989e1f727",
   "metadata": {},
   "source": [
    "Визуализируем распределения количественных признаков: level, area, price, remoute_from_center, price_per_meter"
   ]
  },
  {
   "cell_type": "code",
   "execution_count": 51,
   "id": "5fb54fb3",
   "metadata": {},
   "outputs": [
    {
     "data": {
      "text/html": [
       "<div>\n",
       "<style scoped>\n",
       "    .dataframe tbody tr th:only-of-type {\n",
       "        vertical-align: middle;\n",
       "    }\n",
       "\n",
       "    .dataframe tbody tr th {\n",
       "        vertical-align: top;\n",
       "    }\n",
       "\n",
       "    .dataframe thead th {\n",
       "        text-align: right;\n",
       "    }\n",
       "</style>\n",
       "<table border=\"1\" class=\"dataframe\">\n",
       "  <thead>\n",
       "    <tr style=\"text-align: right;\">\n",
       "      <th></th>\n",
       "      <th>price_n</th>\n",
       "      <th>price_per_meter_n</th>\n",
       "      <th>area_n</th>\n",
       "      <th>level_n</th>\n",
       "      <th>level_all_n</th>\n",
       "      <th>remoute_from_center_n</th>\n",
       "      <th>rooms_n</th>\n",
       "    </tr>\n",
       "  </thead>\n",
       "  <tbody>\n",
       "    <tr>\n",
       "      <th>189</th>\n",
       "      <td>-0.209565</td>\n",
       "      <td>-0.074433</td>\n",
       "      <td>-0.743660</td>\n",
       "      <td>-0.721798</td>\n",
       "      <td>-0.773348</td>\n",
       "      <td>0.173583</td>\n",
       "      <td>-0.937454</td>\n",
       "    </tr>\n",
       "    <tr>\n",
       "      <th>190</th>\n",
       "      <td>-0.179636</td>\n",
       "      <td>-0.030473</td>\n",
       "      <td>-0.760288</td>\n",
       "      <td>-0.803612</td>\n",
       "      <td>-0.572418</td>\n",
       "      <td>1.071296</td>\n",
       "      <td>-0.937454</td>\n",
       "    </tr>\n",
       "    <tr>\n",
       "      <th>191</th>\n",
       "      <td>-0.185937</td>\n",
       "      <td>-0.059027</td>\n",
       "      <td>-0.628926</td>\n",
       "      <td>-0.476358</td>\n",
       "      <td>-0.572418</td>\n",
       "      <td>0.023964</td>\n",
       "      <td>-0.937454</td>\n",
       "    </tr>\n",
       "  </tbody>\n",
       "</table>\n",
       "</div>"
      ],
      "text/plain": [
       "      price_n  price_per_meter_n    area_n   level_n  level_all_n  \\\n",
       "189 -0.209565          -0.074433 -0.743660 -0.721798    -0.773348   \n",
       "190 -0.179636          -0.030473 -0.760288 -0.803612    -0.572418   \n",
       "191 -0.185937          -0.059027 -0.628926 -0.476358    -0.572418   \n",
       "\n",
       "     remoute_from_center_n   rooms_n  \n",
       "189               0.173583 -0.937454  \n",
       "190               1.071296 -0.937454  \n",
       "191               0.023964 -0.937454  "
      ]
     },
     "execution_count": 51,
     "metadata": {},
     "output_type": "execute_result"
    }
   ],
   "source": [
    "# чтобы вывести распределения на одном графике, нормируем признаки с помощью z-оценки и сформируем новый датафрейм\n",
    "std = pd.DataFrame()\n",
    "\n",
    "cols = ['price', 'price_per_meter', 'area', 'level', 'level_all', 'remoute_from_center', 'rooms']\n",
    "\n",
    "for col in cols:\n",
    "    m = rent[col].mean()\n",
    "    s = rent[col].std()\n",
    "    std[col + '_n'] = (rent[col] - m) / s\n",
    "\n",
    "std.head(3)"
   ]
  },
  {
   "cell_type": "code",
   "execution_count": 53,
   "id": "ea99e645",
   "metadata": {},
   "outputs": [],
   "source": [
    "def show_boxplots(df):\n",
    "    \"\"\"\n",
    "    Визуализация распределения датафрейма с помощью boxplots\n",
    "    Parameters\n",
    "    ----------\n",
    "    df : {pd.DataFrame}\n",
    "         Датафрейм для визуализации\n",
    "    Returns\n",
    "    -------\n",
    "    Boxplots\n",
    "    \"\"\"\n",
    "    fig, ax = plt.subplots(nrows=1, ncols=1, figsize=(12, 5))\n",
    "    ax.tick_params(labelsize=9)\n",
    "    ax.set_xticklabels(df.columns)\n",
    "    ax.boxplot(df)\n",
    "    plt.show();"
   ]
  },
  {
   "cell_type": "code",
   "execution_count": 55,
   "id": "d03c1315-8822-4663-bcb0-befbe3742174",
   "metadata": {},
   "outputs": [
    {
     "name": "stderr",
     "output_type": "stream",
     "text": [
      "/tmp/ipykernel_128/975116304.py:14: UserWarning: FixedFormatter should only be used together with FixedLocator\n",
      "  ax.set_xticklabels(df.columns)\n"
     ]
    },
    {
     "data": {
      "image/png": "[encoded data removed]",
      "text/plain": [
       "<Figure size 1200x500 with 1 Axes>"
      ]
     },
     "metadata": {},
     "output_type": "display_data"
    }
   ],
   "source": [
    "# визуализируем распределения признаков\n",
    "show_boxplots(std)"
   ]
  },
  {
   "cell_type": "code",
   "execution_count": 57,
   "id": "af52e812-e216-4b70-ae5d-b3b3c780ba38",
   "metadata": {},
   "outputs": [
    {
     "name": "stderr",
     "output_type": "stream",
     "text": [
      "/tmp/ipykernel_128/975116304.py:14: UserWarning: FixedFormatter should only be used together with FixedLocator\n",
      "  ax.set_xticklabels(df.columns)\n"
     ]
    },
    {
     "data": {
      "image/png": "[encoded data removed]",
      "text/plain": [
       "<Figure size 1200x500 with 1 Axes>"
      ]
     },
     "metadata": {},
     "output_type": "display_data"
    }
   ],
   "source": [
    "# удалим выбросы в наборах данных price_n и price_per_meter_n и заново визуализируем распределения\n",
    "cut_outliers = (std.price_n <= 40) & (std.price_per_meter_n <= 50)\n",
    "std = std.loc[cut_outliers]\n",
    "show_boxplots(std)"
   ]
  },
  {
   "cell_type": "markdown",
   "id": "705d48c3-8247-42be-a2dd-a293b95d481c",
   "metadata": {},
   "source": [
    "Графики распределения количественных данных level, area, price, remoute_from_center, price_per_meter не симметричны, скошены вправо, что свидетельствет о наличии на рынке недвижимости Москвы высотных домов, домов со значительной удаленностью от центра и квартир премиум-сегмента (квартиры большой площади, с высокой арендной платой).\\\n",
    "Чтобы минимизировать влияние выбросов, но при этом сохранить общую картину рынка, принято решение удалить записи со значениями, которые превышают:\n",
    "- по площади (area) 260 кв. м \n",
    "- по арендной плате (price) - 650 тыс. руб.\n",
    "- цене аренды за 1 кв. метр (price_per_meter) - 6000 руб.\n",
    "- по расстоянию от центра (remoute_from_center) - 40 км\n",
    "- по количеству этажей дома (level_all) - 90\n",
    "- по количеству комнат (rooms) - 6"
   ]
  },
  {
   "cell_type": "code",
   "execution_count": 63,
   "id": "79405ee3-1949-4acc-a930-ed7eab881738",
   "metadata": {},
   "outputs": [],
   "source": [
    "# сформировать фильтр и отсечь 'экстремальные' значения\n",
    "cut_outliers =(rent.area <= 260) & (rent.price <= 650_000) & (rent.price_per_meter <= 6_000) & (rent.remoute_from_center <= 40) & (rent.level_all <= 90) & (rent.rooms <= 6)\n",
    "rent = rent.loc[cut_outliers]\n",
    "rent.reset_index(drop=True, inplace=True)"
   ]
  },
  {
   "cell_type": "code",
   "execution_count": 65,
   "id": "ca9a7f38-bc57-4294-a059-e5e7ad5bee4d",
   "metadata": {},
   "outputs": [
    {
     "data": {
      "text/plain": [
       "(7644, 11)"
      ]
     },
     "execution_count": 65,
     "metadata": {},
     "output_type": "execute_result"
    }
   ],
   "source": [
    "# вывести размерность итогового датасета\n",
    "rent.shape"
   ]
  },
  {
   "cell_type": "code",
   "execution_count": 67,
   "id": "f4345dc6-378c-46c5-b79d-f928f7244994",
   "metadata": {},
   "outputs": [
    {
     "data": {
      "image/png": "[encoded data removed]",
      "text/plain": [
       "<Figure size 1500x600 with 6 Axes>"
      ]
     },
     "metadata": {},
     "output_type": "display_data"
    }
   ],
   "source": [
    "fig, ax = plt.subplots(nrows=2, ncols=3, figsize=(15, 6))\n",
    "labels = [['Этажность дома', 'Количество этажей', 'Площадь квартиры, кв.м'], ['Цена аренды, руб.', 'Цена аренды за 1 кв. метр, руб.', 'Расстояние от центра, км']]\n",
    "columns =[['level_all', 'level', 'area'], ['price', 'price_per_meter', 'remoute_from_center']]\n",
    "for i in range(2):\n",
    "    for j in range(3):\n",
    "        ax[i][j].set_xlabel(labels[i][j], fontsize=9)\n",
    "        ax[i][j].set_ylabel('Количество квартир', fontsize=9)\n",
    "        ax[i][j].tick_params(axis='both', labelsize=8)\n",
    "        ax[i][j].hist(rent[columns[i][j]], bins=20, color='#394075')\n",
    "\n",
    "plt.show();"
   ]
  },
  {
   "cell_type": "markdown",
   "id": "3cb5012f-27b4-4804-8233-e9007cc0da81",
   "metadata": {},
   "source": [
    "### 12. Переименование столбцов"
   ]
  },
  {
   "cell_type": "code",
   "execution_count": 69,
   "id": "7eca0002-30f6-4987-9bae-c5889277eee1",
   "metadata": {},
   "outputs": [
    {
     "data": {
      "text/html": [
       "<div>\n",
       "<style scoped>\n",
       "    .dataframe tbody tr th:only-of-type {\n",
       "        vertical-align: middle;\n",
       "    }\n",
       "\n",
       "    .dataframe tbody tr th {\n",
       "        vertical-align: top;\n",
       "    }\n",
       "\n",
       "    .dataframe thead th {\n",
       "        text-align: right;\n",
       "    }\n",
       "</style>\n",
       "<table border=\"1\" class=\"dataframe\">\n",
       "  <thead>\n",
       "    <tr style=\"text-align: right;\">\n",
       "      <th></th>\n",
       "      <th>Количество комнат</th>\n",
       "      <th>Этаж</th>\n",
       "      <th>Площадь</th>\n",
       "      <th>Цена аренды</th>\n",
       "      <th>Конструктив дома</th>\n",
       "      <th>Дата публикации</th>\n",
       "      <th>Город</th>\n",
       "      <th>Расстояние от центра</th>\n",
       "      <th>Тип недвижимости</th>\n",
       "      <th>Этажность</th>\n",
       "      <th>Цена аренды за кв.метр</th>\n",
       "    </tr>\n",
       "  </thead>\n",
       "  <tbody>\n",
       "    <tr>\n",
       "      <th>0</th>\n",
       "      <td>1</td>\n",
       "      <td>2</td>\n",
       "      <td>32.0</td>\n",
       "      <td>29000.0</td>\n",
       "      <td>Панель</td>\n",
       "      <td>2021-11-22</td>\n",
       "      <td>Москва</td>\n",
       "      <td>11.0</td>\n",
       "      <td>старый фонд</td>\n",
       "      <td>5</td>\n",
       "      <td>906.0</td>\n",
       "    </tr>\n",
       "    <tr>\n",
       "      <th>1</th>\n",
       "      <td>1</td>\n",
       "      <td>1</td>\n",
       "      <td>31.0</td>\n",
       "      <td>48000.0</td>\n",
       "      <td>Панель</td>\n",
       "      <td>2022-01-11</td>\n",
       "      <td>Москва</td>\n",
       "      <td>17.0</td>\n",
       "      <td>старый фонд</td>\n",
       "      <td>9</td>\n",
       "      <td>1548.0</td>\n",
       "    </tr>\n",
       "    <tr>\n",
       "      <th>2</th>\n",
       "      <td>1</td>\n",
       "      <td>5</td>\n",
       "      <td>38.9</td>\n",
       "      <td>44000.0</td>\n",
       "      <td>Панель</td>\n",
       "      <td>2022-02-03</td>\n",
       "      <td>Москва</td>\n",
       "      <td>10.0</td>\n",
       "      <td>вторичка</td>\n",
       "      <td>9</td>\n",
       "      <td>1131.0</td>\n",
       "    </tr>\n",
       "  </tbody>\n",
       "</table>\n",
       "</div>"
      ],
      "text/plain": [
       "   Количество комнат  Этаж  Площадь  Цена аренды Конструктив дома  \\\n",
       "0                  1     2     32.0      29000.0           Панель   \n",
       "1                  1     1     31.0      48000.0           Панель   \n",
       "2                  1     5     38.9      44000.0           Панель   \n",
       "\n",
       "  Дата публикации   Город  Расстояние от центра Тип недвижимости  Этажность  \\\n",
       "0      2021-11-22  Москва                  11.0      старый фонд          5   \n",
       "1      2022-01-11  Москва                  17.0      старый фонд          9   \n",
       "2      2022-02-03  Москва                  10.0         вторичка          9   \n",
       "\n",
       "   Цена аренды за кв.метр  \n",
       "0                   906.0  \n",
       "1                  1548.0  \n",
       "2                  1131.0  "
      ]
     },
     "execution_count": 69,
     "metadata": {},
     "output_type": "execute_result"
    }
   ],
   "source": [
    "columns={'rooms': 'Количество комнат',\n",
    "         'level': 'Этаж',\n",
    "         'area': 'Площадь',\n",
    "         'price': 'Цена аренды',\n",
    "         'material': 'Конструктив дома',\n",
    "         'published': 'Дата публикации',\n",
    "         'city': 'Город',\n",
    "         'remoute_from_center': 'Расстояние от центра',\n",
    "         'build_oldest': 'Тип недвижимости',\n",
    "         'level_all': 'Этажность',\n",
    "         'price_per_meter': 'Цена аренды за кв.метр'}\n",
    "rent = rent.rename(columns=columns)\n",
    "rent[:3]"
   ]
  },
  {
   "cell_type": "markdown",
   "id": "20f2dc5b-8782-4070-b102-a5e7e6e6e221",
   "metadata": {},
   "source": [
    "### 13. Сохранение датасета в файл"
   ]
  },
  {
   "cell_type": "code",
   "execution_count": 71,
   "id": "79698d5a-08da-4a55-b8ff-274f5a7e342b",
   "metadata": {},
   "outputs": [],
   "source": [
    "rent.to_csv('rent_apartament_for analysis.csv', index_label='id')"
   ]
  }
 ],
 "metadata": {
  "kernelspec": {
   "display_name": "anaconda-panel-2023.05-py310",
   "language": "python",
   "name": "conda-env-anaconda-panel-2023.05-py310-py"
  },
  "language_info": {
   "codemirror_mode": {
    "name": "ipython",
    "version": 3
   },
   "file_extension": ".py",
   "mimetype": "text/x-python",
   "name": "python",
   "nbconvert_exporter": "python",
   "pygments_lexer": "ipython3",
   "version": "3.11.5"
  }
 },
 "nbformat": 4,
 "nbformat_minor": 5
}
